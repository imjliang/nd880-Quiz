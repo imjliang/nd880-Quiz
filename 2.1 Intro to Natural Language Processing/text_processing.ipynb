{
 "cells": [
  {
   "cell_type": "markdown",
   "metadata": {},
   "source": [
    "# Text Processing\n",
    "\n",
    "## Capturing Text Data\n",
    "\n",
    "### Plain Text"
   ]
  },
  {
   "cell_type": "code",
   "execution_count": 1,
   "metadata": {},
   "outputs": [
    {
     "name": "stdout",
     "output_type": "stream",
     "text": [
      "Hieroglyphic writing dates from c. 3000 BC, and is composed of hundreds of symbols. A hieroglyph can represent a word, a sound, or a silent determinative; and the same symbol can serve different purposes in different contexts. Hieroglyphs were a formal script, used on stone monuments and in tombs, that could be as detailed as individual works of art.\n",
      "\n"
     ]
    }
   ],
   "source": [
    "import os\n",
    "\n",
    "# Read in a plain text file\n",
    "with open(os.path.join(\"data\", \"hieroglyph.txt\"), \"r\") as f:\n",
    "    text = f.read()\n",
    "    print(text)"
   ]
  },
  {
   "cell_type": "markdown",
   "metadata": {},
   "source": [
    "### Tabular Data"
   ]
  },
  {
   "cell_type": "code",
   "execution_count": 2,
   "metadata": {
    "scrolled": true
   },
   "outputs": [
    {
     "data": {
      "text/html": [
       "<div>\n",
       "<style scoped>\n",
       "    .dataframe tbody tr th:only-of-type {\n",
       "        vertical-align: middle;\n",
       "    }\n",
       "\n",
       "    .dataframe tbody tr th {\n",
       "        vertical-align: top;\n",
       "    }\n",
       "\n",
       "    .dataframe thead th {\n",
       "        text-align: right;\n",
       "    }\n",
       "</style>\n",
       "<table border=\"1\" class=\"dataframe\">\n",
       "  <thead>\n",
       "    <tr style=\"text-align: right;\">\n",
       "      <th></th>\n",
       "      <th>publisher</th>\n",
       "      <th>title</th>\n",
       "    </tr>\n",
       "  </thead>\n",
       "  <tbody>\n",
       "    <tr>\n",
       "      <th>0</th>\n",
       "      <td>Livemint</td>\n",
       "      <td>fed's charles plosser sees high bar for change...</td>\n",
       "    </tr>\n",
       "    <tr>\n",
       "      <th>1</th>\n",
       "      <td>IFA Magazine</td>\n",
       "      <td>us open: stocks fall after fed official hints ...</td>\n",
       "    </tr>\n",
       "    <tr>\n",
       "      <th>2</th>\n",
       "      <td>IFA Magazine</td>\n",
       "      <td>fed risks falling 'behind the curve', charles ...</td>\n",
       "    </tr>\n",
       "    <tr>\n",
       "      <th>3</th>\n",
       "      <td>Moneynews</td>\n",
       "      <td>fed's plosser: nasty weather has curbed job gr...</td>\n",
       "    </tr>\n",
       "    <tr>\n",
       "      <th>4</th>\n",
       "      <td>NASDAQ</td>\n",
       "      <td>plosser: fed may have to accelerate tapering pace</td>\n",
       "    </tr>\n",
       "  </tbody>\n",
       "</table>\n",
       "</div>"
      ],
      "text/plain": [
       "      publisher                                              title\n",
       "0      Livemint  fed's charles plosser sees high bar for change...\n",
       "1  IFA Magazine  us open: stocks fall after fed official hints ...\n",
       "2  IFA Magazine  fed risks falling 'behind the curve', charles ...\n",
       "3     Moneynews  fed's plosser: nasty weather has curbed job gr...\n",
       "4        NASDAQ  plosser: fed may have to accelerate tapering pace"
      ]
     },
     "execution_count": 2,
     "metadata": {},
     "output_type": "execute_result"
    }
   ],
   "source": [
    "import pandas as pd\n",
    "\n",
    "# Extract text column from a dataframe\n",
    "df = pd.read_csv(os.path.join(\"data\", \"news.csv\"))\n",
    "df.head()[['publisher', 'title']]\n",
    "\n",
    "# Convert text column to lowercase\n",
    "df['title'] = df['title'].str.lower()\n",
    "df.head()[['publisher', 'title']]"
   ]
  },
  {
   "cell_type": "markdown",
   "metadata": {},
   "source": [
    "### Online Resource"
   ]
  },
  {
   "cell_type": "code",
   "execution_count": 4,
   "metadata": {
    "scrolled": true
   },
   "outputs": [
    {
     "name": "stdout",
     "output_type": "stream",
     "text": [
      "{\n",
      "    \"success\": {\n",
      "        \"total\": 1\n",
      "    },\n",
      "    \"contents\": {\n",
      "        \"quotes\": [\n",
      "            {\n",
      "                \"quote\": \"I am an optimist. It does not seem too much use being anything else..\",\n",
      "                \"length\": \"71\",\n",
      "                \"author\": \"Winston Churchill\",\n",
      "                \"tags\": [\n",
      "                    \"inspire\",\n",
      "                    \"optimist\"\n",
      "                ],\n",
      "                \"category\": \"inspire\",\n",
      "                \"language\": \"en\",\n",
      "                \"date\": \"2022-04-14\",\n",
      "                \"permalink\": \"https://theysaidso.com/quote/winston-churchill-i-am-an-optimist-it-does-not-seem-too-much-use-being-anything\",\n",
      "                \"id\": \"qZVdr86UNmmnFYxCtww0vAeF\",\n",
      "                \"background\": \"https://theysaidso.com/img/qod/qod-inspire.jpg\",\n",
      "                \"title\": \"Inspiring Quote of the day\"\n",
      "            }\n",
      "        ]\n",
      "    },\n",
      "    \"baseurl\": \"https://theysaidso.com\",\n",
      "    \"copyright\": {\n",
      "        \"year\": 2024,\n",
      "        \"url\": \"https://theysaidso.com\"\n",
      "    }\n",
      "}\n",
      "I am an optimist. It does not seem too much use being anything else.. \n",
      "-- Winston Churchill\n"
     ]
    }
   ],
   "source": [
    "import requests\n",
    "import json\n",
    "\n",
    "# Fetch data from a REST API\n",
    "# r = requests.get(\n",
    "#     \"https://quotes.rest/qod.json\")\n",
    "# res = r.json()\n",
    "res = {\n",
    "    \"success\": {\n",
    "        \"total\": 1\n",
    "    },\n",
    "    \"contents\": {\n",
    "        \"quotes\": [\n",
    "            {\n",
    "                \"quote\": \"I am an optimist. It does not seem too much use being anything else..\",\n",
    "                \"length\": \"71\",\n",
    "                \"author\": \"Winston Churchill\",\n",
    "                \"tags\": [\n",
    "                    \"inspire\",\n",
    "                    \"optimist\"\n",
    "                ],\n",
    "                \"category\": \"inspire\",\n",
    "                \"language\": \"en\",\n",
    "                \"date\": \"2022-04-14\",\n",
    "                \"permalink\": \"https://theysaidso.com/quote/winston-churchill-i-am-an-optimist-it-does-not-seem-too-much-use-being-anything\",\n",
    "                \"id\": \"qZVdr86UNmmnFYxCtww0vAeF\",\n",
    "                \"background\": \"https://theysaidso.com/img/qod/qod-inspire.jpg\",\n",
    "                \"title\": \"Inspiring Quote of the day\"\n",
    "            }\n",
    "        ]\n",
    "    },\n",
    "    \"baseurl\": \"https://theysaidso.com\",\n",
    "    \"copyright\": {\n",
    "        \"year\": 2024,\n",
    "        \"url\": \"https://theysaidso.com\"\n",
    "    }\n",
    "}\n",
    "\n",
    "print(json.dumps(res, indent=4))\n",
    "\n",
    "# Extract relevant object and field\n",
    "q = res[\"contents\"][\"quotes\"][0]\n",
    "print(q[\"quote\"], \"\\n--\", q[\"author\"])"
   ]
  },
  {
   "cell_type": "markdown",
   "metadata": {},
   "source": [
    "## Cleaning"
   ]
  },
  {
   "cell_type": "code",
   "execution_count": 5,
   "metadata": {
    "scrolled": true
   },
   "outputs": [
    {
     "name": "stdout",
     "output_type": "stream",
     "text": [
      "<html lang=\"en\" op=\"news\"><head><meta name=\"referrer\" content=\"origin\"><meta name=\"viewport\" content=\"width=device-width, initial-scale=1.0\"><link rel=\"stylesheet\" type=\"text/css\" href=\"news.css?PRlO1GADx7BbjOd7JFET\">\n",
      "        <link rel=\"shortcut icon\" href=\"favicon.ico\">\n",
      "          <link rel=\"alternate\" type=\"application/rss+xml\" title=\"RSS\" href=\"rss\">\n",
      "        <title>Hacker News</title></head><body><center><table id=\"hnmain\" border=\"0\" cellpadding=\"0\" cellspacing=\"0\" width=\"85%\" bgcolor=\"#f6f6ef\">\n",
      "        <tr><td bgcolor=\"#ff6600\"><table border=\"0\" cellpadding=\"0\" cellspacing=\"0\" width=\"100%\" style=\"padding:2px\"><tr><td style=\"width:18px;padding-right:4px\"><a href=\"https://news.ycombinator.com\"><img src=\"y18.gif\" width=\"18\" height=\"18\" style=\"border:1px white solid;\"></a></td>\n",
      "                  <td style=\"line-height:12pt; height:10px;\"><span class=\"pagetop\"><b class=\"hnname\"><a href=\"news\">Hacker News</a></b>\n",
      "              <a href=\"newest\">new</a> | <a href=\"front\">past</a> | <a href=\"newcomments\">comments</a> | <a href=\"ask\">ask</a> | <a href=\"show\">show</a> | <a href=\"jobs\">jobs</a> | <a href=\"submit\">submit</a>            </span></td><td style=\"text-align:right;padding-right:4px;\"><span class=\"pagetop\">\n",
      "                              <a href=\"login?goto=news\">login</a>\n",
      "                          </span></td>\n",
      "              </tr></table></td></tr>\n",
      "<tr id=\"pagespace\" title=\"\" style=\"height:10px\"></tr><tr><td><table border=\"0\" cellpadding=\"0\" cellspacing=\"0\" class=\"itemlist\">\n",
      "              <tr class='athing' id='31168646'>\n",
      "      <td align=\"right\" valign=\"top\" class=\"title\"><span class=\"rank\">1.</span></td>      <td valign=\"top\" class=\"votelinks\"><center><a id='up_31168646'href='vote?id=31168646&amp;how=up&amp;goto=news'><div class='votearrow' title='upvote'></div></a></center></td><td class=\"title\"><a href=\"https://macos8.app/\" class=\"titlelink\">Infinite Mac</a><span class=\"sitebit comhead\"> (<a href=\"from?site=macos8.app\"><span class=\"sitestr\">macos8.app</span></a>)</span></td></tr><tr><td colspan=\"2\"></td><td class=\"subtext\">\n",
      "        <span class=\"score\" id=\"score_31168646\">809 points</span> by <a href=\"user?id=bookofjoe\" class=\"hnuser\">bookofjoe</a> <span class=\"age\" title=\"2022-04-26T15:25:15\"><a href=\"item?id=31168646\">12 hours ago</a></span> <span id=\"unv_31168646\"></span> | <a href=\"hide?id=31168646&amp;goto=news\">hide</a> | <a href=\"item?id=31168646\">281&nbsp;comments</a>              </td></tr>\n",
      "      <tr class=\"spacer\" style=\"height:5px\"></tr>\n",
      "                <tr class='athing' id='31175291'>\n",
      "      <td align=\"right\" valign=\"top\" class=\"title\"><span class=\"rank\">2.</span></td>      <td valign=\"top\" class=\"votelinks\"><center><a id='up_31175291'href='vote?id=31175291&amp;how=up&amp;goto=news'><div class='votearrow' title='upvote'></div></a></center></td><td class=\"title\"><a href=\"https://textsynth.com/playground.html\" class=\"titlelink\">Textsynth: Bellard's free GPT-NeoX-20B, GPT-J playground and paid API</a><span class=\"sitebit comhead\"> (<a href=\"from?site=textsynth.com\"><span class=\"sitestr\">textsynth.com</span></a>)</span></td></tr><tr><td colspan=\"2\"></td><td class=\"subtext\">\n",
      "        <span class=\"score\" id=\"score_31175291\">38 points</span> by <a href=\"user?id=crazypython\" class=\"hnuser\">crazypython</a> <span class=\"age\" title=\"2022-04-27T01:42:45\"><a href=\"item?id=31175291\">2 hours ago</a></span> <span id=\"unv_31175291\"></span> | <a href=\"hide?id=31175291&amp;goto=news\">hide</a> | <a href=\"item?id=31175291\">16&nbsp;comments</a>              </td></tr>\n",
      "      <tr class=\"spacer\" style=\"height:5px\"></tr>\n",
      "                <tr class='athing' id='31168862'>\n",
      "      <td align=\"right\" valign=\"top\" class=\"title\"><span class=\"rank\">3.</span></td>      <td valign=\"top\" class=\"votelinks\"><center><a id='up_31168862'href='vote?id=31168862&amp;how=up&amp;goto=news'><div class='votearrow' title='upvote'></div></a></center></td><td class=\"title\"><a href=\"https://www.openculture.com/2022/02/3200-year-old-egyptian-tablet-shows-why-people-missed-work-the-scorpion-bit-him-brewing-beer-more.html\" class=\"titlelink\">3,200-year-old Egyptian tablet records excuses for why people missed work</a><span class=\"sitebit comhead\"> (<a href=\"from?site=openculture.com\"><span class=\"sitestr\">openculture.com</span></a>)</span></td></tr><tr><td colspan=\"2\"></td><td class=\"subtext\">\n",
      "        <span class=\"score\" id=\"score_31168862\">436 points</span> by <a href=\"user?id=bryanrasmussen\" class=\"hnuser\">bryanrasmussen</a> <span class=\"age\" title=\"2022-04-26T15:38:51\"><a href=\"item?id=31168862\">12 hours ago</a></span> <span id=\"unv_31168862\"></span> | <a href=\"hide?id=31168862&amp;goto=news\">hide</a> | <a href=\"item?id=31168862\">331&nbsp;comments</a>              </td></tr>\n",
      "      <tr class=\"spacer\" style=\"height:5px\"></tr>\n",
      "                <tr class='athing' id='31173484'>\n",
      "      <td align=\"right\" valign=\"top\" class=\"title\"><span class=\"rank\">4.</span></td>      <td valign=\"top\" class=\"votelinks\"><center><a id='up_31173484'href='vote?id=31173484&amp;how=up&amp;goto=news'><div class='votearrow' title='upvote'></div></a></center></td><td class=\"title\"><a href=\"https://cbea.ms/git-commit/\" class=\"titlelink\">How to write a Git commit message (2014)</a><span class=\"sitebit comhead\"> (<a href=\"from?site=cbea.ms\"><span class=\"sitestr\">cbea.ms</span></a>)</span></td></tr><tr><td colspan=\"2\"></td><td class=\"subtext\">\n",
      "        <span class=\"score\" id=\"score_31173484\">128 points</span> by <a href=\"user?id=baristaGeek\" class=\"hnuser\">baristaGeek</a> <span class=\"age\" title=\"2022-04-26T21:35:44\"><a href=\"item?id=31173484\">6 hours ago</a></span> <span id=\"unv_31173484\"></span> | <a href=\"hide?id=31173484&amp;goto=news\">hide</a> | <a href=\"item?id=31173484\">85&nbsp;comments</a>              </td></tr>\n",
      "      <tr class=\"spacer\" style=\"height:5px\"></tr>\n",
      "                <tr class='athing' id='31170370'>\n",
      "      <td align=\"right\" valign=\"top\" class=\"title\"><span class=\"rank\">5.</span></td>      <td valign=\"top\" class=\"votelinks\"><center><a id='up_31170370'href='vote?id=31170370&amp;how=up&amp;goto=news'><div class='votearrow' title='upvote'></div></a></center></td><td class=\"title\"><a href=\"https://slack.engineering/slacks-incident-on-2-22-22/\" class=\"titlelink\">Slack’s Incident on 2-22-22</a><span class=\"sitebit comhead\"> (<a href=\"from?site=slack.engineering\"><span class=\"sitestr\">slack.engineering</span></a>)</span></td></tr><tr><td colspan=\"2\"></td><td class=\"subtext\">\n",
      "        <span class=\"score\" id=\"score_31170370\">204 points</span> by <a href=\"user?id=alphabettsy\" class=\"hnuser\">alphabettsy</a> <span class=\"age\" title=\"2022-04-26T17:26:56\"><a href=\"item?id=31170370\">9 hours ago</a></span> <span id=\"unv_31170370\"></span> | <a href=\"hide?id=31170370&amp;goto=news\">hide</a> | <a href=\"item?id=31170370\">128&nbsp;comments</a>              </td></tr>\n",
      "      <tr class=\"spacer\" style=\"height:5px\"></tr>\n",
      "                <tr class='athing' id='31154567'>\n",
      "      <td align=\"right\" valign=\"top\" class=\"title\"><span class=\"rank\">6.</span></td>      <td valign=\"top\" class=\"votelinks\"><center><a id='up_31154567'href='vote?id=31154567&amp;how=up&amp;goto=news'><div class='votearrow' title='upvote'></div></a></center></td><td class=\"title\"><a href=\"https://lists.sh\" class=\"titlelink\">Show HN: Lists.sh – A Microblog for Lists</a><span class=\"sitebit comhead\"> (<a href=\"from?site=lists.sh\"><span class=\"sitestr\">lists.sh</span></a>)</span></td></tr><tr><td colspan=\"2\"></td><td class=\"subtext\">\n",
      "        <span class=\"score\" id=\"score_31154567\">41 points</span> by <a href=\"user?id=qudat\" class=\"hnuser\">qudat</a> <span class=\"age\" title=\"2022-04-25T13:44:02\"><a href=\"item?id=31154567\">3 hours ago</a></span> <span id=\"unv_31154567\"></span> | <a href=\"hide?id=31154567&amp;goto=news\">hide</a> | <a href=\"item?id=31154567\">11&nbsp;comments</a>              </td></tr>\n",
      "      <tr class=\"spacer\" style=\"height:5px\"></tr>\n",
      "                <tr class='athing' id='31160302'>\n",
      "      <td align=\"right\" valign=\"top\" class=\"title\"><span class=\"rank\">7.</span></td>      <td valign=\"top\" class=\"votelinks\"><center><a id='up_31160302'href='vote?id=31160302&amp;how=up&amp;goto=news'><div class='votearrow' title='upvote'></div></a></center></td><td class=\"title\"><a href=\"https://sqwok.im\" class=\"titlelink\">Show HN: Sqwok – A social chat alternative to Twitter and Reddit</a><span class=\"sitebit comhead\"> (<a href=\"from?site=sqwok.im\"><span class=\"sitestr\">sqwok.im</span></a>)</span></td></tr><tr><td colspan=\"2\"></td><td class=\"subtext\">\n",
      "        <span class=\"score\" id=\"score_31160302\">145 points</span> by <a href=\"user?id=holler\" class=\"hnuser\">holler</a> <span class=\"age\" title=\"2022-04-25T20:40:09\"><a href=\"item?id=31160302\">8 hours ago</a></span> <span id=\"unv_31160302\"></span> | <a href=\"hide?id=31160302&amp;goto=news\">hide</a> | <a href=\"item?id=31160302\">84&nbsp;comments</a>              </td></tr>\n",
      "      <tr class=\"spacer\" style=\"height:5px\"></tr>\n",
      "                <tr class='athing' id='31153702'>\n",
      "      <td align=\"right\" valign=\"top\" class=\"title\"><span class=\"rank\">8.</span></td>      <td valign=\"top\" class=\"votelinks\"><center><a id='up_31153702'href='vote?id=31153702&amp;how=up&amp;goto=news'><div class='votearrow' title='upvote'></div></a></center></td><td class=\"title\"><a href=\"https://arxiv.org/abs/1505.07375\" class=\"titlelink\">The Mysteries of Lisp (2015)</a><span class=\"sitebit comhead\"> (<a href=\"from?site=arxiv.org\"><span class=\"sitestr\">arxiv.org</span></a>)</span></td></tr><tr><td colspan=\"2\"></td><td class=\"subtext\">\n",
      "        <span class=\"score\" id=\"score_31153702\">37 points</span> by <a href=\"user?id=wslh\" class=\"hnuser\">wslh</a> <span class=\"age\" title=\"2022-04-25T12:49:48\"><a href=\"item?id=31153702\">4 hours ago</a></span> <span id=\"unv_31153702\"></span> | <a href=\"hide?id=31153702&amp;goto=news\">hide</a> | <a href=\"item?id=31153702\">1&nbsp;comment</a>              </td></tr>\n",
      "      <tr class=\"spacer\" style=\"height:5px\"></tr>\n",
      "                <tr class='athing' id='31166956'>\n",
      "      <td align=\"right\" valign=\"top\" class=\"title\"><span class=\"rank\">9.</span></td>      <td valign=\"top\" class=\"votelinks\"><center><a id='up_31166956'href='vote?id=31166956&amp;how=up&amp;goto=news'><div class='votearrow' title='upvote'></div></a></center></td><td class=\"title\"><a href=\"https://www.brimdata.io/blog/introducing-zq/\" class=\"titlelink\">Zq: An easier and faster alternative to jq</a><span class=\"sitebit comhead\"> (<a href=\"from?site=brimdata.io\"><span class=\"sitestr\">brimdata.io</span></a>)</span></td></tr><tr><td colspan=\"2\"></td><td class=\"subtext\">\n",
      "        <span class=\"score\" id=\"score_31166956\">409 points</span> by <a href=\"user?id=mccanne\" class=\"hnuser\">mccanne</a> <span class=\"age\" title=\"2022-04-26T13:02:59\"><a href=\"item?id=31166956\">14 hours ago</a></span> <span id=\"unv_31166956\"></span> | <a href=\"hide?id=31166956&amp;goto=news\">hide</a> | <a href=\"item?id=31166956\">207&nbsp;comments</a>              </td></tr>\n",
      "      <tr class=\"spacer\" style=\"height:5px\"></tr>\n",
      "                <tr class='athing' id='31168882'>\n",
      "      <td align=\"right\" valign=\"top\" class=\"title\"><span class=\"rank\">10.</span></td>      <td valign=\"top\" class=\"votelinks\"><center><a id='up_31168882'href='vote?id=31168882&amp;how=up&amp;goto=news'><div class='votearrow' title='upvote'></div></a></center></td><td class=\"title\"><a href=\"item?id=31168882\" class=\"titlelink\">Show HN: Linen – Make your Slack community Google-searchable</a></td></tr><tr><td colspan=\"2\"></td><td class=\"subtext\">\n",
      "        <span class=\"score\" id=\"score_31168882\">112 points</span> by <a href=\"user?id=cheeseblubber\" class=\"hnuser\">cheeseblubber</a> <span class=\"age\" title=\"2022-04-26T15:40:39\"><a href=\"item?id=31168882\">7 hours ago</a></span> <span id=\"unv_31168882\"></span> | <a href=\"hide?id=31168882&amp;goto=news\">hide</a> | <a href=\"item?id=31168882\">36&nbsp;comments</a>              </td></tr>\n",
      "      <tr class=\"spacer\" style=\"height:5px\"></tr>\n",
      "                <tr class='athing' id='31156940'>\n",
      "      <td align=\"right\" valign=\"top\" class=\"title\"><span class=\"rank\">11.</span></td>      <td valign=\"top\" class=\"votelinks\"><center><a id='up_31156940'href='vote?id=31156940&amp;how=up&amp;goto=news'><div class='votearrow' title='upvote'></div></a></center></td><td class=\"title\"><a href=\"https://www.theatlantic.com/magazine/archive/2020/06/edward-snowden-operation-firstfruits/610573/\" class=\"titlelink\">Espionage or Journalism? After the Snowden NSA Leaks (2020)</a><span class=\"sitebit comhead\"> (<a href=\"from?site=theatlantic.com\"><span class=\"sitestr\">theatlantic.com</span></a>)</span></td></tr><tr><td colspan=\"2\"></td><td class=\"subtext\">\n",
      "        <span class=\"score\" id=\"score_31156940\">35 points</span> by <a href=\"user?id=KlatchianMist\" class=\"hnuser\">KlatchianMist</a> <span class=\"age\" title=\"2022-04-25T16:15:16\"><a href=\"item?id=31156940\">3 hours ago</a></span> <span id=\"unv_31156940\"></span> | <a href=\"hide?id=31156940&amp;goto=news\">hide</a> | <a href=\"item?id=31156940\">38&nbsp;comments</a>              </td></tr>\n",
      "      <tr class=\"spacer\" style=\"height:5px\"></tr>\n",
      "                <tr class='athing' id='31154522'>\n",
      "      <td align=\"right\" valign=\"top\" class=\"title\"><span class=\"rank\">12.</span></td>      <td valign=\"top\" class=\"votelinks\"><center><a id='up_31154522'href='vote?id=31154522&amp;how=up&amp;goto=news'><div class='votearrow' title='upvote'></div></a></center></td><td class=\"title\"><a href=\"https://www.washingtonpost.com/video-games/esports/2022/04/19/esports-age-retirement/\" class=\"titlelink\">Esports stars have shorter careers than NFL players</a><span class=\"sitebit comhead\"> (<a href=\"from?site=washingtonpost.com\"><span class=\"sitestr\">washingtonpost.com</span></a>)</span></td></tr><tr><td colspan=\"2\"></td><td class=\"subtext\">\n",
      "        <span class=\"score\" id=\"score_31154522\">62 points</span> by <a href=\"user?id=danso\" class=\"hnuser\">danso</a> <span class=\"age\" title=\"2022-04-25T13:42:25\"><a href=\"item?id=31154522\">4 hours ago</a></span> <span id=\"unv_31154522\"></span> | <a href=\"hide?id=31154522&amp;goto=news\">hide</a> | <a href=\"item?id=31154522\">57&nbsp;comments</a>              </td></tr>\n",
      "      <tr class=\"spacer\" style=\"height:5px\"></tr>\n",
      "                <tr class='athing' id='31154607'>\n",
      "      <td align=\"right\" valign=\"top\" class=\"title\"><span class=\"rank\">13.</span></td>      <td valign=\"top\" class=\"votelinks\"><center><a id='up_31154607'href='vote?id=31154607&amp;how=up&amp;goto=news'><div class='votearrow' title='upvote'></div></a></center></td><td class=\"title\"><a href=\"https://aperiodical.com/2022/03/now-im-calculating-with-constructive-reals/\" class=\"titlelink\">Now I’m calculating with constructive reals</a><span class=\"sitebit comhead\"> (<a href=\"from?site=aperiodical.com\"><span class=\"sitestr\">aperiodical.com</span></a>)</span></td></tr><tr><td colspan=\"2\"></td><td class=\"subtext\">\n",
      "        <span class=\"score\" id=\"score_31154607\">39 points</span> by <a href=\"user?id=ColinWright\" class=\"hnuser\">ColinWright</a> <span class=\"age\" title=\"2022-04-25T13:46:29\"><a href=\"item?id=31154607\">5 hours ago</a></span> <span id=\"unv_31154607\"></span> | <a href=\"hide?id=31154607&amp;goto=news\">hide</a> | <a href=\"item?id=31154607\">13&nbsp;comments</a>              </td></tr>\n",
      "      <tr class=\"spacer\" style=\"height:5px\"></tr>\n",
      "                <tr class='athing' id='31169774'>\n",
      "      <td align=\"right\" valign=\"top\" class=\"title\"><span class=\"rank\">14.</span></td>      <td valign=\"top\" class=\"votelinks\"><center><a id='up_31169774'href='vote?id=31169774&amp;how=up&amp;goto=news'><div class='votearrow' title='upvote'></div></a></center></td><td class=\"title\"><a href=\"https://www.bloomberg.com/news/articles/2022-04-26/forever-21-parent-authentic-brands-sues-bolt-startup\" class=\"titlelink\">Payment startup Bolt sued by its most prominent customer</a><span class=\"sitebit comhead\"> (<a href=\"from?site=bloomberg.com\"><span class=\"sitestr\">bloomberg.com</span></a>)</span></td></tr><tr><td colspan=\"2\"></td><td class=\"subtext\">\n",
      "        <span class=\"score\" id=\"score_31169774\">64 points</span> by <a href=\"user?id=babelfish\" class=\"hnuser\">babelfish</a> <span class=\"age\" title=\"2022-04-26T16:48:09\"><a href=\"item?id=31169774\">7 hours ago</a></span> <span id=\"unv_31169774\"></span> | <a href=\"hide?id=31169774&amp;goto=news\">hide</a> | <a href=\"item?id=31169774\">24&nbsp;comments</a>              </td></tr>\n",
      "      <tr class=\"spacer\" style=\"height:5px\"></tr>\n",
      "                <tr class='athing' id='31160261'>\n",
      "      <td align=\"right\" valign=\"top\" class=\"title\"><span class=\"rank\">15.</span></td>      <td valign=\"top\" class=\"votelinks\"><center><a id='up_31160261'href='vote?id=31160261&amp;how=up&amp;goto=news'><div class='votearrow' title='upvote'></div></a></center></td><td class=\"title\"><a href=\"https://spectrum.ieee.org/darpa-subterranean-challenge-2657170650\" class=\"titlelink\">DARPA’s Subterranean Challenge</a><span class=\"sitebit comhead\"> (<a href=\"from?site=ieee.org\"><span class=\"sitestr\">ieee.org</span></a>)</span></td></tr><tr><td colspan=\"2\"></td><td class=\"subtext\">\n",
      "        <span class=\"score\" id=\"score_31160261\">29 points</span> by <a href=\"user?id=abhiminator\" class=\"hnuser\">abhiminator</a> <span class=\"age\" title=\"2022-04-25T20:36:27\"><a href=\"item?id=31160261\">3 hours ago</a></span> <span id=\"unv_31160261\"></span> | <a href=\"hide?id=31160261&amp;goto=news\">hide</a> | <a href=\"item?id=31160261\">2&nbsp;comments</a>              </td></tr>\n",
      "      <tr class=\"spacer\" style=\"height:5px\"></tr>\n",
      "                <tr class='athing' id='31169332'>\n",
      "      <td align=\"right\" valign=\"top\" class=\"title\"><span class=\"rank\">16.</span></td>      <td valign=\"top\" class=\"votelinks\"><center><a id='up_31169332'href='vote?id=31169332&amp;how=up&amp;goto=news'><div class='votearrow' title='upvote'></div></a></center></td><td class=\"title\"><a href=\"https://www.erlang.org/blog/type-based-optimizations-in-the-jit/\" class=\"titlelink\">Type-Based Optimizations in the JIT</a><span class=\"sitebit comhead\"> (<a href=\"from?site=erlang.org\"><span class=\"sitestr\">erlang.org</span></a>)</span></td></tr><tr><td colspan=\"2\"></td><td class=\"subtext\">\n",
      "        <span class=\"score\" id=\"score_31169332\">102 points</span> by <a href=\"user?id=seanclayton\" class=\"hnuser\">seanclayton</a> <span class=\"age\" title=\"2022-04-26T16:16:21\"><a href=\"item?id=31169332\">9 hours ago</a></span> <span id=\"unv_31169332\"></span> | <a href=\"hide?id=31169332&amp;goto=news\">hide</a> | <a href=\"item?id=31169332\">18&nbsp;comments</a>              </td></tr>\n",
      "      <tr class=\"spacer\" style=\"height:5px\"></tr>\n",
      "                <tr class='athing' id='31169111'>\n",
      "      <td align=\"right\" valign=\"top\" class=\"title\"><span class=\"rank\">17.</span></td>      <td valign=\"top\" class=\"votelinks\"><center><a id='up_31169111'href='vote?id=31169111&amp;how=up&amp;goto=news'><div class='votearrow' title='upvote'></div></a></center></td><td class=\"title\"><a href=\"https://blog.steve.fi/porting_a_game_from_cp_m_to_the_zx_spectrum_48k.html\" class=\"titlelink\">Porting a game from CP/M to the ZX Spectrum 48k</a><span class=\"sitebit comhead\"> (<a href=\"from?site=steve.fi\"><span class=\"sitestr\">steve.fi</span></a>)</span></td></tr><tr><td colspan=\"2\"></td><td class=\"subtext\">\n",
      "        <span class=\"score\" id=\"score_31169111\">26 points</span> by <a href=\"user?id=stevekemp\" class=\"hnuser\">stevekemp</a> <span class=\"age\" title=\"2022-04-26T15:59:02\"><a href=\"item?id=31169111\">4 hours ago</a></span> <span id=\"unv_31169111\"></span> | <a href=\"hide?id=31169111&amp;goto=news\">hide</a> | <a href=\"item?id=31169111\">discuss</a>              </td></tr>\n",
      "      <tr class=\"spacer\" style=\"height:5px\"></tr>\n",
      "                <tr class='athing' id='31170815'>\n",
      "      <td align=\"right\" valign=\"top\" class=\"title\"><span class=\"rank\">18.</span></td>      <td valign=\"top\" class=\"votelinks\"><center><a id='up_31170815'href='vote?id=31170815&amp;how=up&amp;goto=news'><div class='votearrow' title='upvote'></div></a></center></td><td class=\"title\"><a href=\"https://www.spacedrive.app\" class=\"titlelink\">Spacedrive – A File Explorer from the Future</a><span class=\"sitebit comhead\"> (<a href=\"from?site=spacedrive.app\"><span class=\"sitestr\">spacedrive.app</span></a>)</span></td></tr><tr><td colspan=\"2\"></td><td class=\"subtext\">\n",
      "        <span class=\"score\" id=\"score_31170815\">45 points</span> by <a href=\"user?id=vquemener\" class=\"hnuser\">vquemener</a> <span class=\"age\" title=\"2022-04-26T17:57:00\"><a href=\"item?id=31170815\">4 hours ago</a></span> <span id=\"unv_31170815\"></span> | <a href=\"hide?id=31170815&amp;goto=news\">hide</a> | <a href=\"item?id=31170815\">15&nbsp;comments</a>              </td></tr>\n",
      "      <tr class=\"spacer\" style=\"height:5px\"></tr>\n",
      "                <tr class='athing' id='31173116'>\n",
      "      <td align=\"right\" valign=\"top\" class=\"title\"><span class=\"rank\">19.</span></td>      <td></td><td class=\"title\"><a href=\"https://www.finleycms.com/work-at-finley\" class=\"titlelink\" rel=\"nofollow\">Finley (YC W21) is a B2B fintech hiring in sales and eng (US remote)</a><span class=\"sitebit comhead\"> (<a href=\"from?site=finleycms.com\"><span class=\"sitestr\">finleycms.com</span></a>)</span></td></tr><tr><td colspan=\"2\"></td><td class=\"subtext\">\n",
      "        <span class=\"age\" title=\"2022-04-26T21:01:08\"><a href=\"item?id=31173116\">6 hours ago</a></span> | <a href=\"hide?id=31173116&amp;goto=news\">hide</a>      </td></tr>\n",
      "      <tr class=\"spacer\" style=\"height:5px\"></tr>\n",
      "                <tr class='athing' id='31148247'>\n",
      "      <td align=\"right\" valign=\"top\" class=\"title\"><span class=\"rank\">20.</span></td>      <td valign=\"top\" class=\"votelinks\"><center><a id='up_31148247'href='vote?id=31148247&amp;how=up&amp;goto=news'><div class='votearrow' title='upvote'></div></a></center></td><td class=\"title\"><a href=\"https://www.nitrosyncretic.com/rah/pm652-art-hi.html\" class=\"titlelink\">Robert and Virginia Heinlein's Colorado Springs House</a><span class=\"sitebit comhead\"> (<a href=\"from?site=nitrosyncretic.com\"><span class=\"sitestr\">nitrosyncretic.com</span></a>)</span></td></tr><tr><td colspan=\"2\"></td><td class=\"subtext\">\n",
      "        <span class=\"score\" id=\"score_31148247\">65 points</span> by <a href=\"user?id=dcminter\" class=\"hnuser\">dcminter</a> <span class=\"age\" title=\"2022-04-24T20:55:47\"><a href=\"item?id=31148247\">8 hours ago</a></span> <span id=\"unv_31148247\"></span> | <a href=\"hide?id=31148247&amp;goto=news\">hide</a> | <a href=\"item?id=31148247\">23&nbsp;comments</a>              </td></tr>\n",
      "      <tr class=\"spacer\" style=\"height:5px\"></tr>\n",
      "                <tr class='athing' id='31172645'>\n",
      "      <td align=\"right\" valign=\"top\" class=\"title\"><span class=\"rank\">21.</span></td>      <td valign=\"top\" class=\"votelinks\"><center><a id='up_31172645'href='vote?id=31172645&amp;how=up&amp;goto=news'><div class='votearrow' title='upvote'></div></a></center></td><td class=\"title\"><a href=\"https://webkit.org/blog/12578/non-interactive-elements-with-the-inert-attribute/\" class=\"titlelink\">Non-interactive Elements with the inert attribute</a><span class=\"sitebit comhead\"> (<a href=\"from?site=webkit.org\"><span class=\"sitestr\">webkit.org</span></a>)</span></td></tr><tr><td colspan=\"2\"></td><td class=\"subtext\">\n",
      "        <span class=\"score\" id=\"score_31172645\">14 points</span> by <a href=\"user?id=feross\" class=\"hnuser\">feross</a> <span class=\"age\" title=\"2022-04-26T20:19:23\"><a href=\"item?id=31172645\">2 hours ago</a></span> <span id=\"unv_31172645\"></span> | <a href=\"hide?id=31172645&amp;goto=news\">hide</a> | <a href=\"item?id=31172645\">1&nbsp;comment</a>              </td></tr>\n",
      "      <tr class=\"spacer\" style=\"height:5px\"></tr>\n",
      "                <tr class='athing' id='31163704'>\n",
      "      <td align=\"right\" valign=\"top\" class=\"title\"><span class=\"rank\">22.</span></td>      <td valign=\"top\" class=\"votelinks\"><center><a id='up_31163704'href='vote?id=31163704&amp;how=up&amp;goto=news'><div class='votearrow' title='upvote'></div></a></center></td><td class=\"title\"><a href=\"https://flak.tedunangst.com/post/probing-my-ssds-latency\" class=\"titlelink\">Probing My SSD's Latency</a><span class=\"sitebit comhead\"> (<a href=\"from?site=tedunangst.com\"><span class=\"sitestr\">tedunangst.com</span></a>)</span></td></tr><tr><td colspan=\"2\"></td><td class=\"subtext\">\n",
      "        <span class=\"score\" id=\"score_31163704\">32 points</span> by <a href=\"user?id=zdw\" class=\"hnuser\">zdw</a> <span class=\"age\" title=\"2022-04-26T03:42:12\"><a href=\"item?id=31163704\">5 hours ago</a></span> <span id=\"unv_31163704\"></span> | <a href=\"hide?id=31163704&amp;goto=news\">hide</a> | <a href=\"item?id=31163704\">3&nbsp;comments</a>              </td></tr>\n",
      "      <tr class=\"spacer\" style=\"height:5px\"></tr>\n",
      "                <tr class='athing' id='31168069'>\n",
      "      <td align=\"right\" valign=\"top\" class=\"title\"><span class=\"rank\">23.</span></td>      <td valign=\"top\" class=\"votelinks\"><center><a id='up_31168069'href='vote?id=31168069&amp;how=up&amp;goto=news'><div class='votearrow' title='upvote'></div></a></center></td><td class=\"title\"><a href=\"https://github.com/reloadware/reloadium\" class=\"titlelink\">Reloadium – Advanced hot reloading for Python</a><span class=\"sitebit comhead\"> (<a href=\"from?site=github.com/reloadware\"><span class=\"sitestr\">github.com/reloadware</span></a>)</span></td></tr><tr><td colspan=\"2\"></td><td class=\"subtext\">\n",
      "        <span class=\"score\" id=\"score_31168069\">173 points</span> by <a href=\"user?id=kwazar90\" class=\"hnuser\">kwazar90</a> <span class=\"age\" title=\"2022-04-26T14:41:53\"><a href=\"item?id=31168069\">13 hours ago</a></span> <span id=\"unv_31168069\"></span> | <a href=\"hide?id=31168069&amp;goto=news\">hide</a> | <a href=\"item?id=31168069\">45&nbsp;comments</a>              </td></tr>\n",
      "      <tr class=\"spacer\" style=\"height:5px\"></tr>\n",
      "                <tr class='athing' id='31152511'>\n",
      "      <td align=\"right\" valign=\"top\" class=\"title\"><span class=\"rank\">24.</span></td>      <td valign=\"top\" class=\"votelinks\"><center><a id='up_31152511'href='vote?id=31152511&amp;how=up&amp;goto=news'><div class='votearrow' title='upvote'></div></a></center></td><td class=\"title\"><a href=\"https://m3o.com\" class=\"titlelink\">Show HN: M3O – Universal Public API Interface</a><span class=\"sitebit comhead\"> (<a href=\"from?site=m3o.com\"><span class=\"sitestr\">m3o.com</span></a>)</span></td></tr><tr><td colspan=\"2\"></td><td class=\"subtext\">\n",
      "        <span class=\"score\" id=\"score_31152511\">88 points</span> by <a href=\"user?id=asim\" class=\"hnuser\">asim</a> <span class=\"age\" title=\"2022-04-25T10:09:25\"><a href=\"item?id=31152511\">10 hours ago</a></span> <span id=\"unv_31152511\"></span> | <a href=\"hide?id=31152511&amp;goto=news\">hide</a> | <a href=\"item?id=31152511\">29&nbsp;comments</a>              </td></tr>\n",
      "      <tr class=\"spacer\" style=\"height:5px\"></tr>\n",
      "                <tr class='athing' id='31149808'>\n",
      "      <td align=\"right\" valign=\"top\" class=\"title\"><span class=\"rank\">25.</span></td>      <td valign=\"top\" class=\"votelinks\"><center><a id='up_31149808'href='vote?id=31149808&amp;how=up&amp;goto=news'><div class='votearrow' title='upvote'></div></a></center></td><td class=\"title\"><a href=\"https://josephnoelwalker.com/139-david-deutsch/\" class=\"titlelink\">Against Bayesianism – David Deutsch</a><span class=\"sitebit comhead\"> (<a href=\"from?site=josephnoelwalker.com\"><span class=\"sitestr\">josephnoelwalker.com</span></a>)</span></td></tr><tr><td colspan=\"2\"></td><td class=\"subtext\">\n",
      "        <span class=\"score\" id=\"score_31149808\">85 points</span> by <a href=\"user?id=jger15\" class=\"hnuser\">jger15</a> <span class=\"age\" title=\"2022-04-25T01:07:40\"><a href=\"item?id=31149808\">9 hours ago</a></span> <span id=\"unv_31149808\"></span> | <a href=\"hide?id=31149808&amp;goto=news\">hide</a> | <a href=\"item?id=31149808\">52&nbsp;comments</a>              </td></tr>\n",
      "      <tr class=\"spacer\" style=\"height:5px\"></tr>\n",
      "                <tr class='athing' id='31167368'>\n",
      "      <td align=\"right\" valign=\"top\" class=\"title\"><span class=\"rank\">26.</span></td>      <td valign=\"top\" class=\"votelinks\"><center><a id='up_31167368'href='vote?id=31167368&amp;how=up&amp;goto=news'><div class='votearrow' title='upvote'></div></a></center></td><td class=\"title\"><a href=\"item?id=31167368\" class=\"titlelink\">Launch HN: Kraftful (YC S19) – UX Analytics for IoT Products</a></td></tr><tr><td colspan=\"2\"></td><td class=\"subtext\">\n",
      "        <span class=\"score\" id=\"score_31167368\">73 points</span> by <a href=\"user?id=yana\" class=\"hnuser\">yana</a> <span class=\"age\" title=\"2022-04-26T13:43:54\"><a href=\"item?id=31167368\">10 hours ago</a></span> <span id=\"unv_31167368\"></span> | <a href=\"hide?id=31167368&amp;goto=news\">hide</a> | <a href=\"item?id=31167368\">27&nbsp;comments</a>              </td></tr>\n",
      "      <tr class=\"spacer\" style=\"height:5px\"></tr>\n",
      "                <tr class='athing' id='31164412'>\n",
      "      <td align=\"right\" valign=\"top\" class=\"title\"><span class=\"rank\">27.</span></td>      <td valign=\"top\" class=\"votelinks\"><center><a id='up_31164412'href='vote?id=31164412&amp;how=up&amp;goto=news'><div class='votearrow' title='upvote'></div></a></center></td><td class=\"title\"><a href=\"https://paul-samuels.com/blog/2022/04/25/more-unit-testing-with-excel-lambdas/\" class=\"titlelink\">More unit testing with Excel Lambdas</a><span class=\"sitebit comhead\"> (<a href=\"from?site=paul-samuels.com\"><span class=\"sitestr\">paul-samuels.com</span></a>)</span></td></tr><tr><td colspan=\"2\"></td><td class=\"subtext\">\n",
      "        <span class=\"score\" id=\"score_31164412\">27 points</span> by <a href=\"user?id=ingve\" class=\"hnuser\">ingve</a> <span class=\"age\" title=\"2022-04-26T05:56:42\"><a href=\"item?id=31164412\">4 hours ago</a></span> <span id=\"unv_31164412\"></span> | <a href=\"hide?id=31164412&amp;goto=news\">hide</a> | <a href=\"item?id=31164412\">3&nbsp;comments</a>              </td></tr>\n",
      "      <tr class=\"spacer\" style=\"height:5px\"></tr>\n",
      "                <tr class='athing' id='31175527'>\n",
      "      <td align=\"right\" valign=\"top\" class=\"title\"><span class=\"rank\">28.</span></td>      <td valign=\"top\" class=\"votelinks\"><center><a id='up_31175527'href='vote?id=31175527&amp;how=up&amp;goto=news'><div class='votearrow' title='upvote'></div></a></center></td><td class=\"title\"><a href=\"https://blog.joinmastodon.org/2022/04/twitter-buyout-puts-mastodon-into-spotlight/\" class=\"titlelink\">Twitter buyout puts Mastodon into spotlight</a><span class=\"sitebit comhead\"> (<a href=\"from?site=joinmastodon.org\"><span class=\"sitestr\">joinmastodon.org</span></a>)</span></td></tr><tr><td colspan=\"2\"></td><td class=\"subtext\">\n",
      "        <span class=\"score\" id=\"score_31175527\">93 points</span> by <a href=\"user?id=smbv\" class=\"hnuser\">smbv</a> <span class=\"age\" title=\"2022-04-27T02:18:26\"><a href=\"item?id=31175527\">1 hour ago</a></span> <span id=\"unv_31175527\"></span> | <a href=\"hide?id=31175527&amp;goto=news\">hide</a> | <a href=\"item?id=31175527\">106&nbsp;comments</a>              </td></tr>\n",
      "      <tr class=\"spacer\" style=\"height:5px\"></tr>\n",
      "                <tr class='athing' id='31170431'>\n",
      "      <td align=\"right\" valign=\"top\" class=\"title\"><span class=\"rank\">29.</span></td>      <td valign=\"top\" class=\"votelinks\"><center><a id='up_31170431'href='vote?id=31170431&amp;how=up&amp;goto=news'><div class='votearrow' title='upvote'></div></a></center></td><td class=\"title\"><a href=\"https://scottaaronson.blog/?p=6389\" class=\"titlelink\">An update on the campaign to defend serious math education in California</a><span class=\"sitebit comhead\"> (<a href=\"from?site=scottaaronson.blog\"><span class=\"sitestr\">scottaaronson.blog</span></a>)</span></td></tr><tr><td colspan=\"2\"></td><td class=\"subtext\">\n",
      "        <span class=\"score\" id=\"score_31170431\">402 points</span> by <a href=\"user?id=Tomte\" class=\"hnuser\">Tomte</a> <span class=\"age\" title=\"2022-04-26T17:30:50\"><a href=\"item?id=31170431\">10 hours ago</a></span> <span id=\"unv_31170431\"></span> | <a href=\"hide?id=31170431&amp;goto=news\">hide</a> | <a href=\"item?id=31170431\">522&nbsp;comments</a>              </td></tr>\n",
      "      <tr class=\"spacer\" style=\"height:5px\"></tr>\n",
      "                <tr class='athing' id='31168001'>\n",
      "      <td align=\"right\" valign=\"top\" class=\"title\"><span class=\"rank\">30.</span></td>      <td valign=\"top\" class=\"votelinks\"><center><a id='up_31168001'href='vote?id=31168001&amp;how=up&amp;goto=news'><div class='votearrow' title='upvote'></div></a></center></td><td class=\"title\"><a href=\"https://medium.com/graalvm/graalvm-22-1-developer-experience-improvements-apple-silicon-builds-and-more-b7ac9a0f6066\" class=\"titlelink\">GraalVM 22.1: Developer experience improvements, Apple Silicon builds, and more</a><span class=\"sitebit comhead\"> (<a href=\"from?site=medium.com/graalvm\"><span class=\"sitestr\">medium.com/graalvm</span></a>)</span></td></tr><tr><td colspan=\"2\"></td><td class=\"subtext\">\n",
      "        <span class=\"score\" id=\"score_31168001\">167 points</span> by <a href=\"user?id=fniephaus\" class=\"hnuser\">fniephaus</a> <span class=\"age\" title=\"2022-04-26T14:36:40\"><a href=\"item?id=31168001\">13 hours ago</a></span> <span id=\"unv_31168001\"></span> | <a href=\"hide?id=31168001&amp;goto=news\">hide</a> | <a href=\"item?id=31168001\">64&nbsp;comments</a>              </td></tr>\n",
      "      <tr class=\"spacer\" style=\"height:5px\"></tr>\n",
      "            <tr class=\"morespace\" style=\"height:10px\"></tr><tr><td colspan=\"2\"></td>\n",
      "      <td class='title'><a href='news?p=2' class='morelink' rel='next'>More</a></td>    </tr>\n",
      "  </table>\n",
      "</td></tr>\n",
      "<tr><td><img src=\"s.gif\" height=\"10\" width=\"0\"><table width=\"100%\" cellspacing=\"0\" cellpadding=\"1\"><tr><td bgcolor=\"#ff6600\"></td></tr></table><br><center><a href=\"https://www.ycombinator.com/apply/\">\n",
      "        Applications are open for YC Summer 2022\n",
      "      </a></center><br><center><span class=\"yclinks\"><a href=\"newsguidelines.html\">Guidelines</a>\n",
      "        | <a href=\"newsfaq.html\">FAQ</a>\n",
      "        | <a href=\"lists\">Lists</a>\n",
      "        | <a href=\"https://github.com/HackerNews/API\">API</a>\n",
      "        | <a href=\"security.html\">Security</a>\n",
      "        | <a href=\"http://www.ycombinator.com/legal/\">Legal</a>\n",
      "        | <a href=\"http://www.ycombinator.com/apply/\">Apply to YC</a>\n",
      "        | <a href=\"mailto:hn@ycombinator.com\">Contact</a></span><br><br><form method=\"get\" action=\"//hn.algolia.com/\">Search:\n",
      "          <input type=\"text\" name=\"q\" value=\"\" size=\"17\" autocorrect=\"off\" spellcheck=\"false\" autocapitalize=\"off\" autocomplete=\"false\"></form>\n",
      "            </center></td></tr>\n",
      "      </table></center></body><script type='text/javascript' src='hn.js?PRlO1GADx7BbjOd7JFET'></script></html>\n",
      "\n"
     ]
    }
   ],
   "source": [
    "import requests\n",
    "\n",
    "# Fetch a web page\n",
    "r = requests.get(\"https://news.ycombinator.com\")\n",
    "print(r.text)"
   ]
  },
  {
   "cell_type": "code",
   "execution_count": 6,
   "metadata": {},
   "outputs": [
    {
     "name": "stdout",
     "output_type": "stream",
     "text": [
      "\n",
      "        \n",
      "          \n",
      "        Hacker News\n",
      "        \n",
      "                  Hacker News\n",
      "              new | past | comments | ask | show | jobs | submit            \n",
      "                              login\n",
      "                          \n",
      "              \n",
      "\n",
      "              \n",
      "      1.      Infinite Mac (macos8.app)\n",
      "        809 points by bookofjoe 12 hours ago  | hide | 281&nbsp;comments              \n",
      "      \n",
      "                \n",
      "      2.      Textsynth: Bellard's free GPT-NeoX-20B, GPT-J playground and paid API (textsynth.com)\n",
      "        38 points by crazypython 2 hours ago  | hide | 16&nbsp;comments              \n",
      "      \n",
      "                \n",
      "      3.      3,200-year-old Egyptian tablet records excuses for why people missed work (openculture.com)\n",
      "        436 points by bryanrasmussen 12 hours ago  | hide | 331&nbsp;comments              \n",
      "      \n",
      "                \n",
      "      4.      How to write a Git commit message (2014) (cbea.ms)\n",
      "        128 points by baristaGeek 6 hours ago  | hide | 85&nbsp;comments              \n",
      "      \n",
      "                \n",
      "      5.      Slack’s Incident on 2-22-22 (slack.engineering)\n",
      "        204 points by alphabettsy 9 hours ago  | hide | 128&nbsp;comments              \n",
      "      \n",
      "                \n",
      "      6.      Show HN: Lists.sh – A Microblog for Lists (lists.sh)\n",
      "        41 points by qudat 3 hours ago  | hide | 11&nbsp;comments              \n",
      "      \n",
      "                \n",
      "      7.      Show HN: Sqwok – A social chat alternative to Twitter and Reddit (sqwok.im)\n",
      "        145 points by holler 8 hours ago  | hide | 84&nbsp;comments              \n",
      "      \n",
      "                \n",
      "      8.      The Mysteries of Lisp (2015) (arxiv.org)\n",
      "        37 points by wslh 4 hours ago  | hide | 1&nbsp;comment              \n",
      "      \n",
      "                \n",
      "      9.      Zq: An easier and faster alternative to jq (brimdata.io)\n",
      "        409 points by mccanne 14 hours ago  | hide | 207&nbsp;comments              \n",
      "      \n",
      "                \n",
      "      10.      Show HN: Linen – Make your Slack community Google-searchable\n",
      "        112 points by cheeseblubber 7 hours ago  | hide | 36&nbsp;comments              \n",
      "      \n",
      "                \n",
      "      11.      Espionage or Journalism? After the Snowden NSA Leaks (2020) (theatlantic.com)\n",
      "        35 points by KlatchianMist 3 hours ago  | hide | 38&nbsp;comments              \n",
      "      \n",
      "                \n",
      "      12.      Esports stars have shorter careers than NFL players (washingtonpost.com)\n",
      "        62 points by danso 4 hours ago  | hide | 57&nbsp;comments              \n",
      "      \n",
      "                \n",
      "      13.      Now I’m calculating with constructive reals (aperiodical.com)\n",
      "        39 points by ColinWright 5 hours ago  | hide | 13&nbsp;comments              \n",
      "      \n",
      "                \n",
      "      14.      Payment startup Bolt sued by its most prominent customer (bloomberg.com)\n",
      "        64 points by babelfish 7 hours ago  | hide | 24&nbsp;comments              \n",
      "      \n",
      "                \n",
      "      15.      DARPA’s Subterranean Challenge (ieee.org)\n",
      "        29 points by abhiminator 3 hours ago  | hide | 2&nbsp;comments              \n",
      "      \n",
      "                \n",
      "      16.      Type-Based Optimizations in the JIT (erlang.org)\n",
      "        102 points by seanclayton 9 hours ago  | hide | 18&nbsp;comments              \n",
      "      \n",
      "                \n",
      "      17.      Porting a game from CP/M to the ZX Spectrum 48k (steve.fi)\n",
      "        26 points by stevekemp 4 hours ago  | hide | discuss              \n",
      "      \n",
      "                \n",
      "      18.      Spacedrive – A File Explorer from the Future (spacedrive.app)\n",
      "        45 points by vquemener 4 hours ago  | hide | 15&nbsp;comments              \n",
      "      \n",
      "                \n",
      "      19.      Finley (YC W21) is a B2B fintech hiring in sales and eng (US remote) (finleycms.com)\n",
      "        6 hours ago | hide      \n",
      "      \n",
      "                \n",
      "      20.      Robert and Virginia Heinlein's Colorado Springs House (nitrosyncretic.com)\n",
      "        65 points by dcminter 8 hours ago  | hide | 23&nbsp;comments              \n",
      "      \n",
      "                \n",
      "      21.      Non-interactive Elements with the inert attribute (webkit.org)\n",
      "        14 points by feross 2 hours ago  | hide | 1&nbsp;comment              \n",
      "      \n",
      "                \n",
      "      22.      Probing My SSD's Latency (tedunangst.com)\n",
      "        32 points by zdw 5 hours ago  | hide | 3&nbsp;comments              \n",
      "      \n",
      "                \n",
      "      23.      Reloadium – Advanced hot reloading for Python (github.com/reloadware)\n",
      "        173 points by kwazar90 13 hours ago  | hide | 45&nbsp;comments              \n",
      "      \n",
      "                \n",
      "      24.      Show HN: M3O – Universal Public API Interface (m3o.com)\n",
      "        88 points by asim 10 hours ago  | hide | 29&nbsp;comments              \n",
      "      \n",
      "                \n",
      "      25.      Against Bayesianism – David Deutsch (josephnoelwalker.com)\n",
      "        85 points by jger15 9 hours ago  | hide | 52&nbsp;comments              \n",
      "      \n",
      "                \n",
      "      26.      Launch HN: Kraftful (YC S19) – UX Analytics for IoT Products\n",
      "        73 points by yana 10 hours ago  | hide | 27&nbsp;comments              \n",
      "      \n",
      "                \n",
      "      27.      More unit testing with Excel Lambdas (paul-samuels.com)\n",
      "        27 points by ingve 4 hours ago  | hide | 3&nbsp;comments              \n",
      "      \n",
      "                \n",
      "      28.      Twitter buyout puts Mastodon into spotlight (joinmastodon.org)\n",
      "        93 points by smbv 1 hour ago  | hide | 106&nbsp;comments              \n",
      "      \n",
      "                \n",
      "      29.      An update on the campaign to defend serious math education in California (scottaaronson.blog)\n",
      "        402 points by Tomte 10 hours ago  | hide | 522&nbsp;comments              \n",
      "      \n",
      "                \n",
      "      30.      GraalVM 22.1: Developer experience improvements, Apple Silicon builds, and more (medium.com/graalvm)\n",
      "        167 points by fniephaus 13 hours ago  | hide | 64&nbsp;comments              \n",
      "      \n",
      "            \n",
      "      More    \n",
      "  \n",
      "\n",
      "\n",
      "        Applications are open for YC Summer 2022\n",
      "      Guidelines\n",
      "        | FAQ\n",
      "        | Lists\n",
      "        | API\n",
      "        | Security\n",
      "        | Legal\n",
      "        | Apply to YC\n",
      "        | ContactSearch:\n",
      "          \n",
      "            \n",
      "      \n",
      "\n"
     ]
    }
   ],
   "source": [
    "import re\n",
    "\n",
    "# Remove HTML tags using RegEx\n",
    "pattern = re.compile(r'<.*?>')  # tags look like <...>\n",
    "print(pattern.sub('', r.text))  # replace them with blank"
   ]
  },
  {
   "cell_type": "code",
   "execution_count": 7,
   "metadata": {},
   "outputs": [
    {
     "name": "stdout",
     "output_type": "stream",
     "text": [
      "\n",
      "        \n",
      "          \n",
      "        Hacker News\n",
      "        \n",
      "                  Hacker News\n",
      "              new | past | comments | ask | show | jobs | submit            \n",
      "                              login\n",
      "                          \n",
      "              \n",
      "\n",
      "              \n",
      "      1.      Infinite Mac (macos8.app)\n",
      "        809 points by bookofjoe 12 hours ago  | hide | 281 comments              \n",
      "      \n",
      "                \n",
      "      2.      Textsynth: Bellard's free GPT-NeoX-20B, GPT-J playground and paid API (textsynth.com)\n",
      "        38 points by crazypython 2 hours ago  | hide | 16 comments              \n",
      "      \n",
      "                \n",
      "      3.      3,200-year-old Egyptian tablet records excuses for why people missed work (openculture.com)\n",
      "        436 points by bryanrasmussen 12 hours ago  | hide | 331 comments              \n",
      "      \n",
      "                \n",
      "      4.      How to write a Git commit message (2014) (cbea.ms)\n",
      "        128 points by baristaGeek 6 hours ago  | hide | 85 comments              \n",
      "      \n",
      "                \n",
      "      5.      Slack’s Incident on 2-22-22 (slack.engineering)\n",
      "        204 points by alphabettsy 9 hours ago  | hide | 128 comments              \n",
      "      \n",
      "                \n",
      "      6.      Show HN: Lists.sh – A Microblog for Lists (lists.sh)\n",
      "        41 points by qudat 3 hours ago  | hide | 11 comments              \n",
      "      \n",
      "                \n",
      "      7.      Show HN: Sqwok – A social chat alternative to Twitter and Reddit (sqwok.im)\n",
      "        145 points by holler 8 hours ago  | hide | 84 comments              \n",
      "      \n",
      "                \n",
      "      8.      The Mysteries of Lisp (2015) (arxiv.org)\n",
      "        37 points by wslh 4 hours ago  | hide | 1 comment              \n",
      "      \n",
      "                \n",
      "      9.      Zq: An easier and faster alternative to jq (brimdata.io)\n",
      "        409 points by mccanne 14 hours ago  | hide | 207 comments              \n",
      "      \n",
      "                \n",
      "      10.      Show HN: Linen – Make your Slack community Google-searchable\n",
      "        112 points by cheeseblubber 7 hours ago  | hide | 36 comments              \n",
      "      \n",
      "                \n",
      "      11.      Espionage or Journalism? After the Snowden NSA Leaks (2020) (theatlantic.com)\n",
      "        35 points by KlatchianMist 3 hours ago  | hide | 38 comments              \n",
      "      \n",
      "                \n",
      "      12.      Esports stars have shorter careers than NFL players (washingtonpost.com)\n",
      "        62 points by danso 4 hours ago  | hide | 57 comments              \n",
      "      \n",
      "                \n",
      "      13.      Now I’m calculating with constructive reals (aperiodical.com)\n",
      "        39 points by ColinWright 5 hours ago  | hide | 13 comments              \n",
      "      \n",
      "                \n",
      "      14.      Payment startup Bolt sued by its most prominent customer (bloomberg.com)\n",
      "        64 points by babelfish 7 hours ago  | hide | 24 comments              \n",
      "      \n",
      "                \n",
      "      15.      DARPA’s Subterranean Challenge (ieee.org)\n",
      "        29 points by abhiminator 3 hours ago  | hide | 2 comments              \n",
      "      \n",
      "                \n",
      "      16.      Type-Based Optimizations in the JIT (erlang.org)\n",
      "        102 points by seanclayton 9 hours ago  | hide | 18 comments              \n",
      "      \n",
      "                \n",
      "      17.      Porting a game from CP/M to the ZX Spectrum 48k (steve.fi)\n",
      "        26 points by stevekemp 4 hours ago  | hide | discuss              \n",
      "      \n",
      "                \n",
      "      18.      Spacedrive – A File Explorer from the Future (spacedrive.app)\n",
      "        45 points by vquemener 4 hours ago  | hide | 15 comments              \n",
      "      \n",
      "                \n",
      "      19.      Finley (YC W21) is a B2B fintech hiring in sales and eng (US remote) (finleycms.com)\n",
      "        6 hours ago | hide      \n",
      "      \n",
      "                \n",
      "      20.      Robert and Virginia Heinlein's Colorado Springs House (nitrosyncretic.com)\n",
      "        65 points by dcminter 8 hours ago  | hide | 23 comments              \n",
      "      \n",
      "                \n",
      "      21.      Non-interactive Elements with the inert attribute (webkit.org)\n",
      "        14 points by feross 2 hours ago  | hide | 1 comment              \n",
      "      \n",
      "                \n",
      "      22.      Probing My SSD's Latency (tedunangst.com)\n",
      "        32 points by zdw 5 hours ago  | hide | 3 comments              \n",
      "      \n",
      "                \n",
      "      23.      Reloadium – Advanced hot reloading for Python (github.com/reloadware)\n",
      "        173 points by kwazar90 13 hours ago  | hide | 45 comments              \n",
      "      \n",
      "                \n",
      "      24.      Show HN: M3O – Universal Public API Interface (m3o.com)\n",
      "        88 points by asim 10 hours ago  | hide | 29 comments              \n",
      "      \n",
      "                \n",
      "      25.      Against Bayesianism – David Deutsch (josephnoelwalker.com)\n",
      "        85 points by jger15 9 hours ago  | hide | 52 comments              \n",
      "      \n",
      "                \n",
      "      26.      Launch HN: Kraftful (YC S19) – UX Analytics for IoT Products\n",
      "        73 points by yana 10 hours ago  | hide | 27 comments              \n",
      "      \n",
      "                \n",
      "      27.      More unit testing with Excel Lambdas (paul-samuels.com)\n",
      "        27 points by ingve 4 hours ago  | hide | 3 comments              \n",
      "      \n",
      "                \n",
      "      28.      Twitter buyout puts Mastodon into spotlight (joinmastodon.org)\n",
      "        93 points by smbv 1 hour ago  | hide | 106 comments              \n",
      "      \n",
      "                \n",
      "      29.      An update on the campaign to defend serious math education in California (scottaaronson.blog)\n",
      "        402 points by Tomte 10 hours ago  | hide | 522 comments              \n",
      "      \n",
      "                \n",
      "      30.      GraalVM 22.1: Developer experience improvements, Apple Silicon builds, and more (medium.com/graalvm)\n",
      "        167 points by fniephaus 13 hours ago  | hide | 64 comments              \n",
      "      \n",
      "            \n",
      "      More    \n",
      "  \n",
      "\n",
      "\n",
      "        Applications are open for YC Summer 2022\n",
      "      Guidelines\n",
      "        | FAQ\n",
      "        | Lists\n",
      "        | API\n",
      "        | Security\n",
      "        | Legal\n",
      "        | Apply to YC\n",
      "        | ContactSearch:\n",
      "          \n",
      "            \n",
      "      \n",
      "\n"
     ]
    }
   ],
   "source": [
    "from bs4 import BeautifulSoup\n",
    "\n",
    "# Remove HTML tags using Beautiful Soup library\n",
    "soup = BeautifulSoup(r.text, \"html5lib\")\n",
    "print(soup.get_text())"
   ]
  },
  {
   "cell_type": "code",
   "execution_count": 8,
   "metadata": {
    "scrolled": true
   },
   "outputs": [
    {
     "data": {
      "text/plain": [
       "<tr class=\"athing\" id=\"31168646\">\n",
       "      <td align=\"right\" class=\"title\" valign=\"top\"><span class=\"rank\">1.</span></td>      <td class=\"votelinks\" valign=\"top\"><center><a href=\"vote?id=31168646&amp;how=up&amp;goto=news\" id=\"up_31168646\"><div class=\"votearrow\" title=\"upvote\"></div></a></center></td><td class=\"title\"><a class=\"titlelink\" href=\"https://macos8.app/\">Infinite Mac</a><span class=\"sitebit comhead\"> (<a href=\"from?site=macos8.app\"><span class=\"sitestr\">macos8.app</span></a>)</span></td></tr>"
      ]
     },
     "execution_count": 8,
     "metadata": {},
     "output_type": "execute_result"
    }
   ],
   "source": [
    "# Find all articles\n",
    "summaries = soup.find_all(\"tr\", class_=\"athing\")\n",
    "summaries[0]"
   ]
  },
  {
   "cell_type": "code",
   "execution_count": 12,
   "metadata": {},
   "outputs": [
    {
     "data": {
      "text/plain": [
       "'Infinite Mac'"
      ]
     },
     "execution_count": 12,
     "metadata": {},
     "output_type": "execute_result"
    }
   ],
   "source": [
    "# Extract title\n",
    "summaries[0].find(\"a\", class_=\"titlelink\").get_text().strip()"
   ]
  },
  {
   "cell_type": "code",
   "execution_count": 13,
   "metadata": {},
   "outputs": [
    {
     "name": "stdout",
     "output_type": "stream",
     "text": [
      "30 Article summaries found. Sample:\n",
      "Infinite Mac\n"
     ]
    }
   ],
   "source": [
    "# Find all articles, extract titles\n",
    "articles = []\n",
    "summaries = soup.find_all(\"tr\", class_=\"athing\")\n",
    "for summary in summaries:\n",
    "    title = summary.find(\"a\", class_=\"titlelink\").get_text().strip()\n",
    "    articles.append((title))\n",
    "\n",
    "print(len(articles), \"Article summaries found. Sample:\")\n",
    "print(articles[0])"
   ]
  },
  {
   "cell_type": "markdown",
   "metadata": {
    "collapsed": true
   },
   "source": [
    "## Normalization"
   ]
  },
  {
   "cell_type": "markdown",
   "metadata": {},
   "source": [
    "### Case Normalization"
   ]
  },
  {
   "cell_type": "code",
   "execution_count": 14,
   "metadata": {},
   "outputs": [
    {
     "name": "stdout",
     "output_type": "stream",
     "text": [
      "The first time you see The Second Renaissance it may look boring. Look at it at least twice and definitely watch part 2. It will change your view of the matrix. Are the human people the ones who started the war ? Is AI a bad thing ?\n"
     ]
    }
   ],
   "source": [
    "# Sample text\n",
    "text = \"The first time you see The Second Renaissance it may look boring. Look at it at least twice and definitely watch part 2. It will change your view of the matrix. Are the human people the ones who started the war ? Is AI a bad thing ?\"\n",
    "print(text)"
   ]
  },
  {
   "cell_type": "code",
   "execution_count": 15,
   "metadata": {},
   "outputs": [
    {
     "name": "stdout",
     "output_type": "stream",
     "text": [
      "the first time you see the second renaissance it may look boring. look at it at least twice and definitely watch part 2. it will change your view of the matrix. are the human people the ones who started the war ? is ai a bad thing ?\n"
     ]
    }
   ],
   "source": [
    "# Convert to lowercase\n",
    "text = text.lower() \n",
    "print(text)"
   ]
  },
  {
   "cell_type": "markdown",
   "metadata": {},
   "source": [
    "### Punctuation Removal"
   ]
  },
  {
   "cell_type": "code",
   "execution_count": 16,
   "metadata": {},
   "outputs": [
    {
     "name": "stdout",
     "output_type": "stream",
     "text": [
      "the first time you see the second renaissance it may look boring  look at it at least twice and definitely watch part 2  it will change your view of the matrix  are the human people the ones who started the war   is ai a bad thing  \n"
     ]
    }
   ],
   "source": [
    "import re\n",
    "\n",
    "# Remove punctuation characters\n",
    "text = re.sub(r\"[^a-zA-Z0-9]\", \" \", text) \n",
    "print(text)"
   ]
  },
  {
   "cell_type": "markdown",
   "metadata": {},
   "source": [
    "## Tokenization"
   ]
  },
  {
   "cell_type": "code",
   "execution_count": 17,
   "metadata": {},
   "outputs": [
    {
     "name": "stdout",
     "output_type": "stream",
     "text": [
      "['the', 'first', 'time', 'you', 'see', 'the', 'second', 'renaissance', 'it', 'may', 'look', 'boring', 'look', 'at', 'it', 'at', 'least', 'twice', 'and', 'definitely', 'watch', 'part', '2', 'it', 'will', 'change', 'your', 'view', 'of', 'the', 'matrix', 'are', 'the', 'human', 'people', 'the', 'ones', 'who', 'started', 'the', 'war', 'is', 'ai', 'a', 'bad', 'thing']\n"
     ]
    }
   ],
   "source": [
    "# Split text into tokens (words)\n",
    "words = text.split()\n",
    "print(words)"
   ]
  },
  {
   "cell_type": "markdown",
   "metadata": {},
   "source": [
    "### NLTK: Natural Language ToolKit"
   ]
  },
  {
   "cell_type": "code",
   "execution_count": 18,
   "metadata": {},
   "outputs": [],
   "source": [
    "import os\n",
    "import nltk\n",
    "nltk.data.path.append(os.path.join(os.getcwd(), \"nltk_data\"))"
   ]
  },
  {
   "cell_type": "code",
   "execution_count": 19,
   "metadata": {},
   "outputs": [
    {
     "name": "stdout",
     "output_type": "stream",
     "text": [
      "Dr. Smith graduated from the University of Washington. He later started an analytics firm called Lux, which catered to enterprise customers.\n"
     ]
    }
   ],
   "source": [
    "# Another sample text\n",
    "text = \"Dr. Smith graduated from the University of Washington. He later started an analytics firm called Lux, which catered to enterprise customers.\"\n",
    "print(text)"
   ]
  },
  {
   "cell_type": "code",
   "execution_count": 20,
   "metadata": {},
   "outputs": [
    {
     "name": "stdout",
     "output_type": "stream",
     "text": [
      "['Dr.', 'Smith', 'graduated', 'from', 'the', 'University', 'of', 'Washington', '.', 'He', 'later', 'started', 'an', 'analytics', 'firm', 'called', 'Lux', ',', 'which', 'catered', 'to', 'enterprise', 'customers', '.']\n"
     ]
    }
   ],
   "source": [
    "from nltk.tokenize import word_tokenize\n",
    "\n",
    "# Split text into words using NLTK\n",
    "words = word_tokenize(text)\n",
    "print(words)"
   ]
  },
  {
   "cell_type": "code",
   "execution_count": 21,
   "metadata": {},
   "outputs": [
    {
     "name": "stdout",
     "output_type": "stream",
     "text": [
      "['Dr. Smith graduated from the University of Washington.', 'He later started an analytics firm called Lux, which catered to enterprise customers.']\n"
     ]
    }
   ],
   "source": [
    "from nltk.tokenize import sent_tokenize\n",
    "\n",
    "# Split text into sentences\n",
    "sentences = sent_tokenize(text)\n",
    "print(sentences)"
   ]
  },
  {
   "cell_type": "code",
   "execution_count": 22,
   "metadata": {},
   "outputs": [
    {
     "name": "stdout",
     "output_type": "stream",
     "text": [
      "['i', 'me', 'my', 'myself', 'we', 'our', 'ours', 'ourselves', 'you', \"you're\", \"you've\", \"you'll\", \"you'd\", 'your', 'yours', 'yourself', 'yourselves', 'he', 'him', 'his', 'himself', 'she', \"she's\", 'her', 'hers', 'herself', 'it', \"it's\", 'its', 'itself', 'they', 'them', 'their', 'theirs', 'themselves', 'what', 'which', 'who', 'whom', 'this', 'that', \"that'll\", 'these', 'those', 'am', 'is', 'are', 'was', 'were', 'be', 'been', 'being', 'have', 'has', 'had', 'having', 'do', 'does', 'did', 'doing', 'a', 'an', 'the', 'and', 'but', 'if', 'or', 'because', 'as', 'until', 'while', 'of', 'at', 'by', 'for', 'with', 'about', 'against', 'between', 'into', 'through', 'during', 'before', 'after', 'above', 'below', 'to', 'from', 'up', 'down', 'in', 'out', 'on', 'off', 'over', 'under', 'again', 'further', 'then', 'once', 'here', 'there', 'when', 'where', 'why', 'how', 'all', 'any', 'both', 'each', 'few', 'more', 'most', 'other', 'some', 'such', 'no', 'nor', 'not', 'only', 'own', 'same', 'so', 'than', 'too', 'very', 's', 't', 'can', 'will', 'just', 'don', \"don't\", 'should', \"should've\", 'now', 'd', 'll', 'm', 'o', 're', 've', 'y', 'ain', 'aren', \"aren't\", 'couldn', \"couldn't\", 'didn', \"didn't\", 'doesn', \"doesn't\", 'hadn', \"hadn't\", 'hasn', \"hasn't\", 'haven', \"haven't\", 'isn', \"isn't\", 'ma', 'mightn', \"mightn't\", 'mustn', \"mustn't\", 'needn', \"needn't\", 'shan', \"shan't\", 'shouldn', \"shouldn't\", 'wasn', \"wasn't\", 'weren', \"weren't\", 'won', \"won't\", 'wouldn', \"wouldn't\"]\n"
     ]
    }
   ],
   "source": [
    "# List stop words\n",
    "from nltk.corpus import stopwords\n",
    "print(stopwords.words(\"english\"))"
   ]
  },
  {
   "cell_type": "code",
   "execution_count": 23,
   "metadata": {},
   "outputs": [
    {
     "name": "stdout",
     "output_type": "stream",
     "text": [
      "['the', 'first', 'time', 'you', 'see', 'the', 'second', 'renaissance', 'it', 'may', 'look', 'boring', 'look', 'at', 'it', 'at', 'least', 'twice', 'and', 'definitely', 'watch', 'part', '2', 'it', 'will', 'change', 'your', 'view', 'of', 'the', 'matrix', 'are', 'the', 'human', 'people', 'the', 'ones', 'who', 'started', 'the', 'war', 'is', 'ai', 'a', 'bad', 'thing']\n"
     ]
    }
   ],
   "source": [
    "# Reset text\n",
    "text = \"The first time you see The Second Renaissance it may look boring. Look at it at least twice and definitely watch part 2. It will change your view of the matrix. Are the human people the ones who started the war ? Is AI a bad thing ?\"\n",
    "\n",
    "# Normalize it\n",
    "text = re.sub(r\"[^a-zA-Z0-9]\", \" \", text.lower())\n",
    "\n",
    "# Tokenize it\n",
    "words = text.split()\n",
    "print(words)"
   ]
  },
  {
   "cell_type": "code",
   "execution_count": 24,
   "metadata": {},
   "outputs": [
    {
     "name": "stdout",
     "output_type": "stream",
     "text": [
      "['first', 'time', 'see', 'second', 'renaissance', 'may', 'look', 'boring', 'look', 'least', 'twice', 'definitely', 'watch', 'part', '2', 'change', 'view', 'matrix', 'human', 'people', 'ones', 'started', 'war', 'ai', 'bad', 'thing']\n"
     ]
    }
   ],
   "source": [
    "# Remove stop words\n",
    "words = [w for w in words if w not in stopwords.words(\"english\")]\n",
    "print(words)"
   ]
  },
  {
   "cell_type": "markdown",
   "metadata": {},
   "source": [
    "### Sentence Parsing"
   ]
  },
  {
   "cell_type": "code",
   "execution_count": 25,
   "metadata": {},
   "outputs": [
    {
     "name": "stdout",
     "output_type": "stream",
     "text": [
      "(S\n",
      "  (NP I)\n",
      "  (VP\n",
      "    (VP (V shot) (NP (Det an) (N elephant)))\n",
      "    (PP (P in) (NP (Det my) (N pajamas)))))\n",
      "(S\n",
      "  (NP I)\n",
      "  (VP\n",
      "    (V shot)\n",
      "    (NP (Det an) (N elephant) (PP (P in) (NP (Det my) (N pajamas))))))\n"
     ]
    }
   ],
   "source": [
    "import nltk\n",
    "\n",
    "# Define a custom grammar\n",
    "my_grammar = nltk.CFG.fromstring(\"\"\"\n",
    "S -> NP VP\n",
    "PP -> P NP\n",
    "NP -> Det N | Det N PP | 'I'\n",
    "VP -> V NP | VP PP\n",
    "Det -> 'an' | 'my'\n",
    "N -> 'elephant' | 'pajamas'\n",
    "V -> 'shot'\n",
    "P -> 'in'\n",
    "\"\"\")\n",
    "parser = nltk.ChartParser(my_grammar)\n",
    "\n",
    "# Parse a sentence\n",
    "sentence = word_tokenize(\"I shot an elephant in my pajamas\")\n",
    "for tree in parser.parse(sentence):\n",
    "    print(tree)"
   ]
  },
  {
   "cell_type": "markdown",
   "metadata": {},
   "source": [
    "## Stemming & Lemmatization\n",
    "\n",
    "### Stemming"
   ]
  },
  {
   "cell_type": "code",
   "execution_count": 26,
   "metadata": {},
   "outputs": [
    {
     "name": "stdout",
     "output_type": "stream",
     "text": [
      "['first', 'time', 'see', 'second', 'renaiss', 'may', 'look', 'bore', 'look', 'least', 'twice', 'definit', 'watch', 'part', '2', 'chang', 'view', 'matrix', 'human', 'peopl', 'one', 'start', 'war', 'ai', 'bad', 'thing']\n"
     ]
    }
   ],
   "source": [
    "from nltk.stem.porter import PorterStemmer\n",
    "\n",
    "# Reduce words to their stems\n",
    "stemmed = [PorterStemmer().stem(w) for w in words]\n",
    "print(stemmed)"
   ]
  },
  {
   "cell_type": "markdown",
   "metadata": {},
   "source": [
    "### Lemmatization"
   ]
  },
  {
   "cell_type": "code",
   "execution_count": 27,
   "metadata": {},
   "outputs": [
    {
     "name": "stdout",
     "output_type": "stream",
     "text": [
      "['first', 'time', 'see', 'second', 'renaissance', 'may', 'look', 'boring', 'look', 'least', 'twice', 'definitely', 'watch', 'part', '2', 'change', 'view', 'matrix', 'human', 'people', 'one', 'started', 'war', 'ai', 'bad', 'thing']\n"
     ]
    }
   ],
   "source": [
    "from nltk.stem.wordnet import WordNetLemmatizer\n",
    "\n",
    "# Reduce words to their root form\n",
    "lemmed = [WordNetLemmatizer().lemmatize(w) for w in words]\n",
    "print(lemmed)"
   ]
  },
  {
   "cell_type": "code",
   "execution_count": 28,
   "metadata": {},
   "outputs": [
    {
     "name": "stdout",
     "output_type": "stream",
     "text": [
      "['first', 'time', 'see', 'second', 'renaissance', 'may', 'look', 'bore', 'look', 'least', 'twice', 'definitely', 'watch', 'part', '2', 'change', 'view', 'matrix', 'human', 'people', 'one', 'start', 'war', 'ai', 'bad', 'thing']\n"
     ]
    }
   ],
   "source": [
    "# Lemmatize verbs by specifying pos\n",
    "lemmed = [WordNetLemmatizer().lemmatize(w, pos='v') for w in lemmed]\n",
    "print(lemmed)"
   ]
  },
  {
   "cell_type": "code",
   "execution_count": null,
   "metadata": {},
   "outputs": [],
   "source": []
  }
 ],
 "metadata": {
  "kernelspec": {
   "display_name": "Python 3",
   "language": "python",
   "name": "python3"
  },
  "language_info": {
   "codemirror_mode": {
    "name": "ipython",
    "version": 3
   },
   "file_extension": ".py",
   "mimetype": "text/x-python",
   "name": "python",
   "nbconvert_exporter": "python",
   "pygments_lexer": "ipython3",
   "version": "3.6.3"
  }
 },
 "nbformat": 4,
 "nbformat_minor": 2
}
