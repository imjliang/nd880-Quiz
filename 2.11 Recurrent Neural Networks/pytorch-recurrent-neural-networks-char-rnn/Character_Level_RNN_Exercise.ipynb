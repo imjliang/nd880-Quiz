{
 "cells": [
  {
   "cell_type": "markdown",
   "metadata": {},
   "source": [
    "# Character-Level LSTM in PyTorch\n",
    "\n",
    "In this notebook, I'll construct a character-level LSTM with PyTorch. The network will train character by character on some text, then generate new text character by character. As an example, I will train on Anna Karenina. **This model will be able to generate new text based on the text from the book!**\n",
    "\n",
    "This network is based off of Andrej Karpathy's [post on RNNs](http://karpathy.github.io/2015/05/21/rnn-effectiveness/) and [implementation in Torch](https://github.com/karpathy/char-rnn). Below is the general architecture of the character-wise RNN.\n",
    "\n",
    "<img src=\"assets/charseq.jpeg\" width=\"500\">"
   ]
  },
  {
   "cell_type": "markdown",
   "metadata": {},
   "source": [
    "First let's load in our required resources for data loading and model creation."
   ]
  },
  {
   "cell_type": "code",
   "execution_count": 1,
   "metadata": {},
   "outputs": [],
   "source": [
    "import numpy as np\n",
    "import torch\n",
    "from torch import nn\n",
    "import torch.nn.functional as F"
   ]
  },
  {
   "cell_type": "markdown",
   "metadata": {},
   "source": [
    "## Load in Data\n",
    "\n",
    "Then, we'll load the Anna Karenina text file and convert it into integers for our network to use. "
   ]
  },
  {
   "cell_type": "code",
   "execution_count": 2,
   "metadata": {},
   "outputs": [],
   "source": [
    "# open text file and read in data as `text`\n",
    "with open('data/anna.txt', 'r') as f:\n",
    "    text = f.read()"
   ]
  },
  {
   "cell_type": "markdown",
   "metadata": {},
   "source": [
    "Let's check out the first 100 characters, make sure everything is peachy. According to the [American Book Review](http://americanbookreview.org/100bestlines.asp), this is the 6th best first line of a book ever."
   ]
  },
  {
   "cell_type": "code",
   "execution_count": 3,
   "metadata": {},
   "outputs": [
    {
     "data": {
      "text/plain": [
       "'Chapter 1\\n\\n\\nHappy families are all alike; every unhappy family is unhappy in its own\\nway.\\n\\nEverythin'"
      ]
     },
     "execution_count": 3,
     "metadata": {},
     "output_type": "execute_result"
    }
   ],
   "source": [
    "text[:100]"
   ]
  },
  {
   "cell_type": "markdown",
   "metadata": {},
   "source": [
    "### Tokenization\n",
    "\n",
    "In the cells, below, I'm creating a couple of **dictionaries** to convert the characters to and from integers. Encoding the characters as integers makes it easier to use as input in the network."
   ]
  },
  {
   "cell_type": "code",
   "execution_count": 4,
   "metadata": {},
   "outputs": [],
   "source": [
    "# encode the text and map each character to an integer and vice versa\n",
    "\n",
    "# we create two dictionaries:\n",
    "# 1. int2char, which maps integers to characters\n",
    "# 2. char2int, which maps characters to unique integers\n",
    "chars = tuple(set(text))\n",
    "int2char = dict(enumerate(chars))\n",
    "char2int = {ch: ii for ii, ch in int2char.items()}\n",
    "\n",
    "# encode the text\n",
    "encoded = np.array([char2int[ch] for ch in text])"
   ]
  },
  {
   "cell_type": "markdown",
   "metadata": {},
   "source": [
    "And we can see those same characters from above, encoded as integers."
   ]
  },
  {
   "cell_type": "code",
   "execution_count": 5,
   "metadata": {},
   "outputs": [
    {
     "data": {
      "text/plain": [
       "array([74, 72, 55,  7, 54, 26, 47, 82, 53, 46, 46, 46, 32, 55,  7,  7,  8,\n",
       "       82, 34, 55, 45, 77, 52, 77, 26, 12, 82, 55, 47, 26, 82, 55, 52, 52,\n",
       "       82, 55, 52, 77, 70, 26, 39, 82, 26, 51, 26, 47,  8, 82, 76, 15, 72,\n",
       "       55,  7,  7,  8, 82, 34, 55, 45, 77, 52,  8, 82, 77, 12, 82, 76, 15,\n",
       "       72, 55,  7,  7,  8, 82, 77, 15, 82, 77, 54, 12, 82, 61, 68, 15, 46,\n",
       "       68, 55,  8, 78, 46, 46, 17, 51, 26, 47,  8, 54, 72, 77, 15])"
      ]
     },
     "execution_count": 5,
     "metadata": {},
     "output_type": "execute_result"
    }
   ],
   "source": [
    "encoded[:100]"
   ]
  },
  {
   "cell_type": "markdown",
   "metadata": {},
   "source": [
    "## Pre-processing the data\n",
    "\n",
    "As you can see in our char-RNN image above, our LSTM expects an input that is **one-hot encoded** meaning that each character is converted into an integer (via our created dictionary) and *then* converted into a column vector where only it's corresponding integer index will have the value of 1 and the rest of the vector will be filled with 0's. Since we're one-hot encoding the data, let's make a function to do that!\n"
   ]
  },
  {
   "cell_type": "code",
   "execution_count": 6,
   "metadata": {},
   "outputs": [],
   "source": [
    "def one_hot_encode(arr, n_labels):\n",
    "    \n",
    "    # Initialize the encoded array\n",
    "    one_hot = np.zeros((arr.size, n_labels), dtype=np.float32)\n",
    "    \n",
    "    # Fill the appropriate elements with ones\n",
    "    one_hot[np.arange(one_hot.shape[0]), arr.flatten()] = 1.\n",
    "    \n",
    "    # Finally reshape it to get back to the original array\n",
    "    one_hot = one_hot.reshape((*arr.shape, n_labels))\n",
    "    \n",
    "    return one_hot"
   ]
  },
  {
   "cell_type": "code",
   "execution_count": 7,
   "metadata": {},
   "outputs": [
    {
     "name": "stdout",
     "output_type": "stream",
     "text": [
      "[[[0. 0. 0. 1. 0. 0. 0. 0.]\n",
      "  [0. 0. 0. 0. 0. 1. 0. 0.]\n",
      "  [0. 1. 0. 0. 0. 0. 0. 0.]]]\n"
     ]
    }
   ],
   "source": [
    "# check that the function works as expected\n",
    "test_seq = np.array([[3, 5, 1]])\n",
    "one_hot = one_hot_encode(test_seq, 8)\n",
    "\n",
    "print(one_hot)"
   ]
  },
  {
   "cell_type": "markdown",
   "metadata": {},
   "source": [
    "## Making training mini-batches\n",
    "\n",
    "\n",
    "To train on this data, we also want to create mini-batches for training. Remember that we want our batches to be multiple sequences of some desired number of sequence steps. Considering a simple example, our batches would look like this:\n",
    "\n",
    "<img src=\"assets/sequence_batching@1x.png\" width=500px>\n",
    "\n",
    "\n",
    "<br>\n",
    "\n",
    "In this example, we'll take the encoded characters (passed in as the `arr` parameter) and split them into multiple sequences, given by `batch_size`. Each of our sequences will be `seq_length` long.\n",
    "\n",
    "### Creating Batches\n",
    "\n",
    "**1. The first thing we need to do is discard some of the text so we only have completely full mini-batches. **\n",
    "\n",
    "Each batch contains $N \\times M$ characters, where $N$ is the batch size (the number of sequences in a batch) and $M$ is the seq_length or number of time steps in a sequence. Then, to get the total number of batches, $K$, that we can make from the array `arr`, you divide the length of `arr` by the number of characters per batch. Once you know the number of batches, you can get the total number of characters to keep from `arr`, $N * M * K$.\n",
    "\n",
    "**2. After that, we need to split `arr` into $N$ batches. ** \n",
    "\n",
    "You can do this using `arr.reshape(size)` where `size` is a tuple containing the dimensions sizes of the reshaped array. We know we want $N$ sequences in a batch, so let's make that the size of the first dimension. For the second dimension, you can use `-1` as a placeholder in the size, it'll fill up the array with the appropriate data for you. After this, you should have an array that is $N \\times (M * K)$.\n",
    "\n",
    "**3. Now that we have this array, we can iterate through it to get our mini-batches. **\n",
    "\n",
    "The idea is each batch is a $N \\times M$ window on the $N \\times (M * K)$ array. For each subsequent batch, the window moves over by `seq_length`. We also want to create both the input and target arrays. Remember that the targets are just the inputs shifted over by one character. The way I like to do this window is use `range` to take steps of size `n_steps` from $0$ to `arr.shape[1]`, the total number of tokens in each sequence. That way, the integers you get from `range` always point to the start of a batch, and each window is `seq_length` wide.\n",
    "\n",
    "> **TODO:** Write the code for creating batches in the function below. The exercises in this notebook _will not be easy_. I've provided a notebook with solutions alongside this notebook. If you get stuck, checkout the solutions. The most important thing is that you don't copy and paste the code into here, **type out the solution code yourself.**"
   ]
  },
  {
   "cell_type": "code",
   "execution_count": 8,
   "metadata": {},
   "outputs": [],
   "source": [
    "def get_batches(arr, batch_size, seq_length):\n",
    "    '''Create a generator that returns batches of size\n",
    "       batch_size x seq_length from arr.\n",
    "       \n",
    "       Arguments\n",
    "       ---------\n",
    "       arr: Array you want to make batches from\n",
    "       batch_size: Batch size, the number of sequences per batch\n",
    "       seq_length: Number of encoded chars in a sequence\n",
    "    '''\n",
    "    \n",
    "    batch_size_total = batch_size * seq_length\n",
    "    # total number of batches we can make\n",
    "    n_batches = len(arr)//batch_size_total\n",
    "    \n",
    "    # Keep only enough characters to make full batches\n",
    "    arr = arr[:n_batches * batch_size_total]\n",
    "    # Reshape into batch_size rows\n",
    "    arr = arr.reshape((batch_size, -1))\n",
    "    \n",
    "    # iterate through the array, one sequence at a time\n",
    "    for n in range(0, arr.shape[1], seq_length):\n",
    "        # The features\n",
    "        x = arr[:, n:n+seq_length]\n",
    "        # The targets, shifted by one\n",
    "        y = np.zeros_like(x)\n",
    "        try:\n",
    "            y[:, :-1], y[:, -1] = x[:, 1:], arr[:, n+seq_length]\n",
    "        except IndexError:\n",
    "            y[:, :-1], y[:, -1] = x[:, 1:], arr[:, 0]\n",
    "        yield x, y"
   ]
  },
  {
   "cell_type": "markdown",
   "metadata": {},
   "source": [
    "### Test Your Implementation\n",
    "\n",
    "Now I'll make some data sets and we can check out what's going on as we batch data. Here, as an example, I'm going to use a batch size of 8 and 50 sequence steps."
   ]
  },
  {
   "cell_type": "code",
   "execution_count": 9,
   "metadata": {},
   "outputs": [],
   "source": [
    "batches = get_batches(encoded, 8, 50)\n",
    "x, y = next(batches)"
   ]
  },
  {
   "cell_type": "code",
   "execution_count": 10,
   "metadata": {},
   "outputs": [
    {
     "name": "stdout",
     "output_type": "stream",
     "text": [
      "x\n",
      " [[74 72 55  7 54 26 47 82 53 46]\n",
      " [12 61 15 82 54 72 55 54 82 55]\n",
      " [26 15 36 82 61 47 82 55 82 34]\n",
      " [12 82 54 72 26 82 44 72 77 26]\n",
      " [82 12 55 68 82 72 26 47 82 54]\n",
      " [44 76 12 12 77 61 15 82 55 15]\n",
      " [82 60 15 15 55 82 72 55 36 82]\n",
      " [79 56 52 61 15 12 70  8 78 82]]\n",
      "\n",
      "y\n",
      " [[72 55  7 54 26 47 82 53 46 46]\n",
      " [61 15 82 54 72 55 54 82 55 54]\n",
      " [15 36 82 61 47 82 55 82 34 61]\n",
      " [82 54 72 26 82 44 72 77 26 34]\n",
      " [12 55 68 82 72 26 47 82 54 26]\n",
      " [76 12 12 77 61 15 82 55 15 36]\n",
      " [60 15 15 55 82 72 55 36 82 12]\n",
      " [56 52 61 15 12 70  8 78 82 41]]\n"
     ]
    }
   ],
   "source": [
    "# printing out the first 10 items in a sequence\n",
    "print('x\\n', x[:10, :10])\n",
    "print('\\ny\\n', y[:10, :10])"
   ]
  },
  {
   "cell_type": "markdown",
   "metadata": {},
   "source": [
    "If you implemented `get_batches` correctly, the above output should look something like \n",
    "```\n",
    "x\n",
    " [[25  8 60 11 45 27 28 73  1  2]\n",
    " [17  7 20 73 45  8 60 45 73 60]\n",
    " [27 20 80 73  7 28 73 60 73 65]\n",
    " [17 73 45  8 27 73 66  8 46 27]\n",
    " [73 17 60 12 73  8 27 28 73 45]\n",
    " [66 64 17 17 46  7 20 73 60 20]\n",
    " [73 76 20 20 60 73  8 60 80 73]\n",
    " [47 35 43  7 20 17 24 50 37 73]]\n",
    "\n",
    "y\n",
    " [[ 8 60 11 45 27 28 73  1  2  2]\n",
    " [ 7 20 73 45  8 60 45 73 60 45]\n",
    " [20 80 73  7 28 73 60 73 65  7]\n",
    " [73 45  8 27 73 66  8 46 27 65]\n",
    " [17 60 12 73  8 27 28 73 45 27]\n",
    " [64 17 17 46  7 20 73 60 20 80]\n",
    " [76 20 20 60 73  8 60 80 73 17]\n",
    " [35 43  7 20 17 24 50 37 73 36]]\n",
    " ```\n",
    " although the exact numbers may be different. Check to make sure the data is shifted over one step for `y`."
   ]
  },
  {
   "cell_type": "markdown",
   "metadata": {},
   "source": [
    "---\n",
    "## Defining the network with PyTorch\n",
    "\n",
    "Below is where you'll define the network.\n",
    "\n",
    "<img src=\"assets/charRNN.png\" width=500px>\n",
    "\n",
    "Next, you'll use PyTorch to define the architecture of the network. We start by defining the layers and operations we want. Then, define a method for the forward pass. You've also been given a method for predicting characters."
   ]
  },
  {
   "cell_type": "markdown",
   "metadata": {},
   "source": [
    "### Model Structure\n",
    "\n",
    "In `__init__` the suggested structure is as follows:\n",
    "* Create and store the necessary dictionaries (this has been done for you)\n",
    "* Define an LSTM layer that takes as params: an input size (the number of characters), a hidden layer size `n_hidden`, a number of layers `n_layers`, a dropout probability `drop_prob`, and a batch_first boolean (True, since we are batching)\n",
    "* Define a dropout layer with `drop_prob`\n",
    "* Define a fully-connected layer with params: input size `n_hidden` and output size (the number of characters)\n",
    "* Finally, initialize the weights (again, this has been given)\n",
    "\n",
    "Note that some parameters have been named and given in the `__init__` function, and we use them and store them by doing something like `self.drop_prob = drop_prob`."
   ]
  },
  {
   "cell_type": "markdown",
   "metadata": {},
   "source": [
    "---\n",
    "### LSTM Inputs/Outputs\n",
    "\n",
    "You can create a basic [LSTM layer](https://pytorch.org/docs/stable/nn.html#lstm) as follows\n",
    "\n",
    "```python\n",
    "self.lstm = nn.LSTM(input_size, n_hidden, n_layers, \n",
    "                            dropout=drop_prob, batch_first=True)\n",
    "```\n",
    "\n",
    "where `input_size` is the number of characters this cell expects to see as sequential input, and `n_hidden` is the number of units in the hidden layers in the cell. And we can add dropout by adding a dropout parameter with a specified probability; this will automatically add dropout to the inputs or outputs. Finally, in the `forward` function, we can stack up the LSTM cells into layers using `.view`. With this, you pass in a list of cells and it will send the output of one cell into the next cell.\n",
    "\n",
    "We also need to create an initial hidden state of all zeros. This is done like so\n",
    "\n",
    "```python\n",
    "self.init_hidden()\n",
    "```"
   ]
  },
  {
   "cell_type": "code",
   "execution_count": 11,
   "metadata": {},
   "outputs": [
    {
     "name": "stdout",
     "output_type": "stream",
     "text": [
      "Training on GPU!\n"
     ]
    }
   ],
   "source": [
    "# check if GPU is available\n",
    "train_on_gpu = torch.cuda.is_available()\n",
    "if(train_on_gpu):\n",
    "    print('Training on GPU!')\n",
    "else: \n",
    "    print('No GPU available, training on CPU; consider making n_epochs very small.')"
   ]
  },
  {
   "cell_type": "code",
   "execution_count": 13,
   "metadata": {},
   "outputs": [],
   "source": [
    "class CharRNN(nn.Module):\n",
    "    \n",
    "    def __init__(self, tokens, n_hidden=256, n_layers=2,\n",
    "                               drop_prob=0.5, lr=0.001):\n",
    "        super().__init__()\n",
    "        self.drop_prob = drop_prob\n",
    "        self.n_layers = n_layers\n",
    "        self.n_hidden = n_hidden\n",
    "        self.lr = lr\n",
    "        \n",
    "        # creating character dictionaries\n",
    "        self.chars = tokens\n",
    "        self.int2char = dict(enumerate(self.chars))\n",
    "        self.char2int = {ch: ii for ii, ch in self.int2char.items()}\n",
    "        \n",
    "        ## TODO: define the LSTM\n",
    "        self.lstm = nn.LSTM(len(self.chars), n_hidden, n_layers, \n",
    "                            dropout=drop_prob, batch_first=True)\n",
    "        \n",
    "        ## TODO: define a dropout layer\n",
    "        self.dropout = nn.Dropout(drop_prob)\n",
    "        \n",
    "        ## TODO: define the final, fully-connected output layer\n",
    "        self.fc = nn.Linear(n_hidden, len(self.chars))\n",
    "      \n",
    "    \n",
    "    def forward(self, x, hidden):\n",
    "        ''' Forward pass through the network. \n",
    "            These inputs are x, and the hidden/cell state `hidden`. '''\n",
    "                \n",
    "        ## TODO: Get the outputs and the new hidden state from the lstm\n",
    "        r_output, hidden = self.lstm(x, hidden)\n",
    "        \n",
    "        ## TODO: pass through a dropout layer\n",
    "        out = self.dropout(r_output)\n",
    "        \n",
    "        # Stack up LSTM outputs using view\n",
    "        # you may need to use contiguous to reshape the output\n",
    "        out = out.contiguous().view(-1, self.n_hidden)\n",
    "        \n",
    "        ## TODO: put x through the fully-connected layer\n",
    "        out = self.fc(out)\n",
    "        \n",
    "        # return the final output and the hidden state\n",
    "        return out, hidden\n",
    "    \n",
    "    \n",
    "    def init_hidden(self, batch_size):\n",
    "        ''' Initializes hidden state '''\n",
    "        # Create two new tensors with sizes n_layers x batch_size x n_hidden,\n",
    "        # initialized to zero, for hidden state and cell state of LSTM\n",
    "        weight = next(self.parameters()).data\n",
    "        \n",
    "        if (train_on_gpu):\n",
    "            hidden = (weight.new(self.n_layers, batch_size, self.n_hidden).zero_().cuda(),\n",
    "                  weight.new(self.n_layers, batch_size, self.n_hidden).zero_().cuda())\n",
    "        else:\n",
    "            hidden = (weight.new(self.n_layers, batch_size, self.n_hidden).zero_(),\n",
    "                      weight.new(self.n_layers, batch_size, self.n_hidden).zero_())\n",
    "        \n",
    "        return hidden\n",
    "        "
   ]
  },
  {
   "cell_type": "markdown",
   "metadata": {},
   "source": [
    "## Time to train\n",
    "\n",
    "The train function gives us the ability to set the number of epochs, the learning rate, and other parameters.\n",
    "\n",
    "Below we're using an Adam optimizer and cross entropy loss since we are looking at character class scores as output. We calculate the loss and perform backpropagation, as usual!\n",
    "\n",
    "A couple of details about training: \n",
    ">* Within the batch loop, we detach the hidden state from its history; this time setting it equal to a new *tuple* variable because an LSTM has a hidden state that is a tuple of the hidden and cell states.\n",
    "* We use [`clip_grad_norm_`](https://pytorch.org/docs/stable/_modules/torch/nn/utils/clip_grad.html) to help prevent exploding gradients."
   ]
  },
  {
   "cell_type": "code",
   "execution_count": 14,
   "metadata": {},
   "outputs": [],
   "source": [
    "def train(net, data, epochs=10, batch_size=10, seq_length=50, lr=0.001, clip=5, val_frac=0.1, print_every=10):\n",
    "    ''' Training a network \n",
    "    \n",
    "        Arguments\n",
    "        ---------\n",
    "        \n",
    "        net: CharRNN network\n",
    "        data: text data to train the network\n",
    "        epochs: Number of epochs to train\n",
    "        batch_size: Number of mini-sequences per mini-batch, aka batch size\n",
    "        seq_length: Number of character steps per mini-batch\n",
    "        lr: learning rate\n",
    "        clip: gradient clipping\n",
    "        val_frac: Fraction of data to hold out for validation\n",
    "        print_every: Number of steps for printing training and validation loss\n",
    "    \n",
    "    '''\n",
    "    net.train()\n",
    "    \n",
    "    opt = torch.optim.Adam(net.parameters(), lr=lr)\n",
    "    criterion = nn.CrossEntropyLoss()\n",
    "    \n",
    "    # create training and validation data\n",
    "    val_idx = int(len(data)*(1-val_frac))\n",
    "    data, val_data = data[:val_idx], data[val_idx:]\n",
    "    \n",
    "    if(train_on_gpu):\n",
    "        net.cuda()\n",
    "    \n",
    "    counter = 0\n",
    "    n_chars = len(net.chars)\n",
    "    for e in range(epochs):\n",
    "        # initialize hidden state\n",
    "        h = net.init_hidden(batch_size)\n",
    "        \n",
    "        for x, y in get_batches(data, batch_size, seq_length):\n",
    "            counter += 1\n",
    "            \n",
    "            # One-hot encode our data and make them Torch tensors\n",
    "            x = one_hot_encode(x, n_chars)\n",
    "            inputs, targets = torch.from_numpy(x), torch.from_numpy(y)\n",
    "            \n",
    "            if(train_on_gpu):\n",
    "                inputs, targets = inputs.cuda(), targets.cuda()\n",
    "\n",
    "            # Creating new variables for the hidden state, otherwise\n",
    "            # we'd backprop through the entire training history\n",
    "            h = tuple([each.data for each in h])\n",
    "\n",
    "            # zero accumulated gradients\n",
    "            net.zero_grad()\n",
    "            \n",
    "            # get the output from the model\n",
    "            output, h = net(inputs, h)\n",
    "            \n",
    "            # calculate the loss and perform backprop\n",
    "            loss = criterion(output, targets.view(batch_size*seq_length).long())\n",
    "            loss.backward()\n",
    "            # `clip_grad_norm` helps prevent the exploding gradient problem in RNNs / LSTMs.\n",
    "            nn.utils.clip_grad_norm_(net.parameters(), clip)\n",
    "            opt.step()\n",
    "            \n",
    "            # loss stats\n",
    "            if counter % print_every == 0:\n",
    "                # Get validation loss\n",
    "                val_h = net.init_hidden(batch_size)\n",
    "                val_losses = []\n",
    "                net.eval()\n",
    "                for x, y in get_batches(val_data, batch_size, seq_length):\n",
    "                    # One-hot encode our data and make them Torch tensors\n",
    "                    x = one_hot_encode(x, n_chars)\n",
    "                    x, y = torch.from_numpy(x), torch.from_numpy(y)\n",
    "                    \n",
    "                    # Creating new variables for the hidden state, otherwise\n",
    "                    # we'd backprop through the entire training history\n",
    "                    val_h = tuple([each.data for each in val_h])\n",
    "                    \n",
    "                    inputs, targets = x, y\n",
    "                    if(train_on_gpu):\n",
    "                        inputs, targets = inputs.cuda(), targets.cuda()\n",
    "\n",
    "                    output, val_h = net(inputs, val_h)\n",
    "                    val_loss = criterion(output, targets.view(batch_size*seq_length).long())\n",
    "                \n",
    "                    val_losses.append(val_loss.item())\n",
    "                \n",
    "                net.train() # reset to train mode after iterationg through validation data\n",
    "                \n",
    "                print(\"Epoch: {}/{}...\".format(e+1, epochs),\n",
    "                      \"Step: {}...\".format(counter),\n",
    "                      \"Loss: {:.4f}...\".format(loss.item()),\n",
    "                      \"Val Loss: {:.4f}\".format(np.mean(val_losses)))"
   ]
  },
  {
   "cell_type": "markdown",
   "metadata": {},
   "source": [
    "## Instantiating the model\n",
    "\n",
    "Now we can actually train the network. First we'll create the network itself, with some given hyperparameters. Then, define the mini-batches sizes, and start training!"
   ]
  },
  {
   "cell_type": "code",
   "execution_count": 15,
   "metadata": {},
   "outputs": [
    {
     "name": "stdout",
     "output_type": "stream",
     "text": [
      "CharRNN(\n",
      "  (lstm): LSTM(83, 512, num_layers=2, batch_first=True, dropout=0.5)\n",
      "  (dropout): Dropout(p=0.5, inplace=False)\n",
      "  (fc): Linear(in_features=512, out_features=83, bias=True)\n",
      ")\n"
     ]
    }
   ],
   "source": [
    "# define and print the net\n",
    "n_hidden=512\n",
    "n_layers=2\n",
    "\n",
    "net = CharRNN(chars, n_hidden, n_layers)\n",
    "print(net)"
   ]
  },
  {
   "cell_type": "markdown",
   "metadata": {},
   "source": [
    "### Set your training hyperparameters!"
   ]
  },
  {
   "cell_type": "code",
   "execution_count": 16,
   "metadata": {
    "scrolled": true
   },
   "outputs": [
    {
     "name": "stdout",
     "output_type": "stream",
     "text": [
      "Epoch: 1/20... Step: 10... Loss: 3.2534... Val Loss: 3.1722\n",
      "Epoch: 1/20... Step: 20... Loss: 3.1528... Val Loss: 3.1315\n",
      "Epoch: 1/20... Step: 30... Loss: 3.1406... Val Loss: 3.1212\n",
      "Epoch: 1/20... Step: 40... Loss: 3.1152... Val Loss: 3.1193\n",
      "Epoch: 1/20... Step: 50... Loss: 3.1410... Val Loss: 3.1181\n",
      "Epoch: 1/20... Step: 60... Loss: 3.1213... Val Loss: 3.1163\n",
      "Epoch: 1/20... Step: 70... Loss: 3.1076... Val Loss: 3.1149\n",
      "Epoch: 1/20... Step: 80... Loss: 3.1210... Val Loss: 3.1108\n",
      "Epoch: 1/20... Step: 90... Loss: 3.1161... Val Loss: 3.1019\n",
      "Epoch: 1/20... Step: 100... Loss: 3.0899... Val Loss: 3.0779\n",
      "Epoch: 1/20... Step: 110... Loss: 3.0369... Val Loss: 3.0129\n",
      "Epoch: 1/20... Step: 120... Loss: 2.9173... Val Loss: 2.9055\n",
      "Epoch: 1/20... Step: 130... Loss: 2.8358... Val Loss: 2.7880\n",
      "Epoch: 2/20... Step: 140... Loss: 2.7341... Val Loss: 2.7078\n",
      "Epoch: 2/20... Step: 150... Loss: 2.6420... Val Loss: 2.5832\n",
      "Epoch: 2/20... Step: 160... Loss: 2.5644... Val Loss: 2.5225\n",
      "Epoch: 2/20... Step: 170... Loss: 2.5029... Val Loss: 2.4774\n",
      "Epoch: 2/20... Step: 180... Loss: 2.4656... Val Loss: 2.4365\n",
      "Epoch: 2/20... Step: 190... Loss: 2.4114... Val Loss: 2.4029\n",
      "Epoch: 2/20... Step: 200... Loss: 2.4129... Val Loss: 2.3731\n",
      "Epoch: 2/20... Step: 210... Loss: 2.3804... Val Loss: 2.3475\n",
      "Epoch: 2/20... Step: 220... Loss: 2.3394... Val Loss: 2.3173\n",
      "Epoch: 2/20... Step: 230... Loss: 2.3264... Val Loss: 2.3003\n",
      "Epoch: 2/20... Step: 240... Loss: 2.3070... Val Loss: 2.3122\n",
      "Epoch: 2/20... Step: 250... Loss: 2.2468... Val Loss: 2.3057\n",
      "Epoch: 2/20... Step: 260... Loss: 2.2545... Val Loss: 2.2234\n",
      "Epoch: 2/20... Step: 270... Loss: 2.2421... Val Loss: 2.1984\n",
      "Epoch: 3/20... Step: 280... Loss: 2.2271... Val Loss: 2.1787\n",
      "Epoch: 3/20... Step: 290... Loss: 2.1886... Val Loss: 2.1552\n",
      "Epoch: 3/20... Step: 300... Loss: 2.1677... Val Loss: 2.1359\n",
      "Epoch: 3/20... Step: 310... Loss: 2.1470... Val Loss: 2.1132\n",
      "Epoch: 3/20... Step: 320... Loss: 2.1237... Val Loss: 2.0965\n",
      "Epoch: 3/20... Step: 330... Loss: 2.0807... Val Loss: 2.0784\n",
      "Epoch: 3/20... Step: 340... Loss: 2.0995... Val Loss: 2.0601\n",
      "Epoch: 3/20... Step: 350... Loss: 2.0968... Val Loss: 2.0440\n",
      "Epoch: 3/20... Step: 360... Loss: 2.0188... Val Loss: 2.0260\n",
      "Epoch: 3/20... Step: 370... Loss: 2.0443... Val Loss: 2.0113\n",
      "Epoch: 3/20... Step: 380... Loss: 2.0342... Val Loss: 1.9948\n",
      "Epoch: 3/20... Step: 390... Loss: 2.0031... Val Loss: 1.9822\n",
      "Epoch: 3/20... Step: 400... Loss: 1.9720... Val Loss: 1.9655\n",
      "Epoch: 3/20... Step: 410... Loss: 1.9778... Val Loss: 1.9517\n",
      "Epoch: 4/20... Step: 420... Loss: 1.9720... Val Loss: 1.9352\n",
      "Epoch: 4/20... Step: 430... Loss: 1.9640... Val Loss: 1.9229\n",
      "Epoch: 4/20... Step: 440... Loss: 1.9462... Val Loss: 1.9133\n",
      "Epoch: 4/20... Step: 450... Loss: 1.8849... Val Loss: 1.8974\n",
      "Epoch: 4/20... Step: 460... Loss: 1.8696... Val Loss: 1.8879\n",
      "Epoch: 4/20... Step: 470... Loss: 1.9047... Val Loss: 1.8779\n",
      "Epoch: 4/20... Step: 480... Loss: 1.8916... Val Loss: 1.8719\n",
      "Epoch: 4/20... Step: 490... Loss: 1.8944... Val Loss: 1.8558\n",
      "Epoch: 4/20... Step: 500... Loss: 1.8791... Val Loss: 1.8406\n",
      "Epoch: 4/20... Step: 510... Loss: 1.8618... Val Loss: 1.8283\n",
      "Epoch: 4/20... Step: 520... Loss: 1.8768... Val Loss: 1.8212\n",
      "Epoch: 4/20... Step: 530... Loss: 1.8393... Val Loss: 1.8110\n",
      "Epoch: 4/20... Step: 540... Loss: 1.7995... Val Loss: 1.8031\n",
      "Epoch: 4/20... Step: 550... Loss: 1.8392... Val Loss: 1.7825\n",
      "Epoch: 5/20... Step: 560... Loss: 1.8063... Val Loss: 1.7781\n",
      "Epoch: 5/20... Step: 570... Loss: 1.7969... Val Loss: 1.7672\n",
      "Epoch: 5/20... Step: 580... Loss: 1.7692... Val Loss: 1.7613\n",
      "Epoch: 5/20... Step: 590... Loss: 1.7730... Val Loss: 1.7496\n",
      "Epoch: 5/20... Step: 600... Loss: 1.7555... Val Loss: 1.7419\n",
      "Epoch: 5/20... Step: 610... Loss: 1.7478... Val Loss: 1.7312\n",
      "Epoch: 5/20... Step: 620... Loss: 1.7459... Val Loss: 1.7246\n",
      "Epoch: 5/20... Step: 630... Loss: 1.7661... Val Loss: 1.7187\n",
      "Epoch: 5/20... Step: 640... Loss: 1.7283... Val Loss: 1.7081\n",
      "Epoch: 5/20... Step: 650... Loss: 1.7239... Val Loss: 1.7015\n",
      "Epoch: 5/20... Step: 660... Loss: 1.6916... Val Loss: 1.6932\n",
      "Epoch: 5/20... Step: 670... Loss: 1.7186... Val Loss: 1.6901\n",
      "Epoch: 5/20... Step: 680... Loss: 1.7235... Val Loss: 1.6801\n",
      "Epoch: 5/20... Step: 690... Loss: 1.6962... Val Loss: 1.6742\n",
      "Epoch: 6/20... Step: 700... Loss: 1.6914... Val Loss: 1.6713\n",
      "Epoch: 6/20... Step: 710... Loss: 1.6731... Val Loss: 1.6583\n",
      "Epoch: 6/20... Step: 720... Loss: 1.6713... Val Loss: 1.6548\n",
      "Epoch: 6/20... Step: 730... Loss: 1.6820... Val Loss: 1.6457\n",
      "Epoch: 6/20... Step: 740... Loss: 1.6560... Val Loss: 1.6417\n",
      "Epoch: 6/20... Step: 750... Loss: 1.6292... Val Loss: 1.6372\n",
      "Epoch: 6/20... Step: 760... Loss: 1.6658... Val Loss: 1.6356\n",
      "Epoch: 6/20... Step: 770... Loss: 1.6482... Val Loss: 1.6298\n",
      "Epoch: 6/20... Step: 780... Loss: 1.6257... Val Loss: 1.6234\n",
      "Epoch: 6/20... Step: 790... Loss: 1.6205... Val Loss: 1.6141\n",
      "Epoch: 6/20... Step: 800... Loss: 1.6361... Val Loss: 1.6118\n",
      "Epoch: 6/20... Step: 810... Loss: 1.6256... Val Loss: 1.6064\n",
      "Epoch: 6/20... Step: 820... Loss: 1.5934... Val Loss: 1.6022\n",
      "Epoch: 6/20... Step: 830... Loss: 1.6342... Val Loss: 1.5955\n",
      "Epoch: 7/20... Step: 840... Loss: 1.5888... Val Loss: 1.5894\n",
      "Epoch: 7/20... Step: 850... Loss: 1.5994... Val Loss: 1.5860\n",
      "Epoch: 7/20... Step: 860... Loss: 1.5920... Val Loss: 1.5826\n",
      "Epoch: 7/20... Step: 870... Loss: 1.5989... Val Loss: 1.5758\n",
      "Epoch: 7/20... Step: 880... Loss: 1.5917... Val Loss: 1.5735\n",
      "Epoch: 7/20... Step: 890... Loss: 1.5883... Val Loss: 1.5679\n",
      "Epoch: 7/20... Step: 900... Loss: 1.5825... Val Loss: 1.5655\n",
      "Epoch: 7/20... Step: 910... Loss: 1.5449... Val Loss: 1.5629\n",
      "Epoch: 7/20... Step: 920... Loss: 1.5747... Val Loss: 1.5564\n",
      "Epoch: 7/20... Step: 930... Loss: 1.5578... Val Loss: 1.5534\n",
      "Epoch: 7/20... Step: 940... Loss: 1.5617... Val Loss: 1.5551\n",
      "Epoch: 7/20... Step: 950... Loss: 1.5703... Val Loss: 1.5485\n",
      "Epoch: 7/20... Step: 960... Loss: 1.5633... Val Loss: 1.5428\n",
      "Epoch: 7/20... Step: 970... Loss: 1.5793... Val Loss: 1.5426\n",
      "Epoch: 8/20... Step: 980... Loss: 1.5437... Val Loss: 1.5389\n",
      "Epoch: 8/20... Step: 990... Loss: 1.5426... Val Loss: 1.5327\n",
      "Epoch: 8/20... Step: 1000... Loss: 1.5331... Val Loss: 1.5293\n",
      "Epoch: 8/20... Step: 1010... Loss: 1.5700... Val Loss: 1.5233\n",
      "Epoch: 8/20... Step: 1020... Loss: 1.5480... Val Loss: 1.5211\n",
      "Epoch: 8/20... Step: 1030... Loss: 1.5270... Val Loss: 1.5159\n",
      "Epoch: 8/20... Step: 1040... Loss: 1.5358... Val Loss: 1.5152\n",
      "Epoch: 8/20... Step: 1050... Loss: 1.5167... Val Loss: 1.5135\n",
      "Epoch: 8/20... Step: 1060... Loss: 1.5184... Val Loss: 1.5132\n",
      "Epoch: 8/20... Step: 1070... Loss: 1.5226... Val Loss: 1.5069\n",
      "Epoch: 8/20... Step: 1080... Loss: 1.5120... Val Loss: 1.5065\n",
      "Epoch: 8/20... Step: 1090... Loss: 1.4998... Val Loss: 1.5006\n",
      "Epoch: 8/20... Step: 1100... Loss: 1.4849... Val Loss: 1.4958\n",
      "Epoch: 8/20... Step: 1110... Loss: 1.5046... Val Loss: 1.4936\n",
      "Epoch: 9/20... Step: 1120... Loss: 1.5071... Val Loss: 1.4912\n",
      "Epoch: 9/20... Step: 1130... Loss: 1.5069... Val Loss: 1.4868\n",
      "Epoch: 9/20... Step: 1140... Loss: 1.5045... Val Loss: 1.4826\n",
      "Epoch: 9/20... Step: 1150... Loss: 1.5126... Val Loss: 1.4837\n",
      "Epoch: 9/20... Step: 1160... Loss: 1.4673... Val Loss: 1.4796\n",
      "Epoch: 9/20... Step: 1170... Loss: 1.4798... Val Loss: 1.4797\n",
      "Epoch: 9/20... Step: 1180... Loss: 1.4720... Val Loss: 1.4783\n",
      "Epoch: 9/20... Step: 1190... Loss: 1.5031... Val Loss: 1.4751\n",
      "Epoch: 9/20... Step: 1200... Loss: 1.4596... Val Loss: 1.4710\n",
      "Epoch: 9/20... Step: 1210... Loss: 1.4680... Val Loss: 1.4724\n",
      "Epoch: 9/20... Step: 1220... Loss: 1.4676... Val Loss: 1.4669\n",
      "Epoch: 9/20... Step: 1230... Loss: 1.4502... Val Loss: 1.4639\n",
      "Epoch: 9/20... Step: 1240... Loss: 1.4556... Val Loss: 1.4607\n",
      "Epoch: 9/20... Step: 1250... Loss: 1.4631... Val Loss: 1.4591\n",
      "Epoch: 10/20... Step: 1260... Loss: 1.4622... Val Loss: 1.4591\n",
      "Epoch: 10/20... Step: 1270... Loss: 1.4594... Val Loss: 1.4530\n",
      "Epoch: 10/20... Step: 1280... Loss: 1.4689... Val Loss: 1.4501\n",
      "Epoch: 10/20... Step: 1290... Loss: 1.4661... Val Loss: 1.4518\n",
      "Epoch: 10/20... Step: 1300... Loss: 1.4515... Val Loss: 1.4512\n",
      "Epoch: 10/20... Step: 1310... Loss: 1.4559... Val Loss: 1.4480\n",
      "Epoch: 10/20... Step: 1320... Loss: 1.4272... Val Loss: 1.4481\n",
      "Epoch: 10/20... Step: 1330... Loss: 1.4318... Val Loss: 1.4447\n",
      "Epoch: 10/20... Step: 1340... Loss: 1.4173... Val Loss: 1.4401\n"
     ]
    },
    {
     "name": "stdout",
     "output_type": "stream",
     "text": [
      "Epoch: 10/20... Step: 1350... Loss: 1.4091... Val Loss: 1.4372\n",
      "Epoch: 10/20... Step: 1360... Loss: 1.4220... Val Loss: 1.4377\n",
      "Epoch: 10/20... Step: 1370... Loss: 1.4119... Val Loss: 1.4368\n",
      "Epoch: 10/20... Step: 1380... Loss: 1.4560... Val Loss: 1.4314\n",
      "Epoch: 10/20... Step: 1390... Loss: 1.4570... Val Loss: 1.4286\n",
      "Epoch: 11/20... Step: 1400... Loss: 1.4572... Val Loss: 1.4269\n",
      "Epoch: 11/20... Step: 1410... Loss: 1.4681... Val Loss: 1.4259\n",
      "Epoch: 11/20... Step: 1420... Loss: 1.4527... Val Loss: 1.4206\n",
      "Epoch: 11/20... Step: 1430... Loss: 1.4170... Val Loss: 1.4256\n",
      "Epoch: 11/20... Step: 1440... Loss: 1.4480... Val Loss: 1.4225\n",
      "Epoch: 11/20... Step: 1450... Loss: 1.3719... Val Loss: 1.4203\n",
      "Epoch: 11/20... Step: 1460... Loss: 1.4005... Val Loss: 1.4202\n",
      "Epoch: 11/20... Step: 1470... Loss: 1.3897... Val Loss: 1.4198\n",
      "Epoch: 11/20... Step: 1480... Loss: 1.4174... Val Loss: 1.4113\n",
      "Epoch: 11/20... Step: 1490... Loss: 1.4074... Val Loss: 1.4135\n",
      "Epoch: 11/20... Step: 1500... Loss: 1.3832... Val Loss: 1.4126\n",
      "Epoch: 11/20... Step: 1510... Loss: 1.3703... Val Loss: 1.4129\n",
      "Epoch: 11/20... Step: 1520... Loss: 1.3970... Val Loss: 1.4092\n",
      "Epoch: 12/20... Step: 1530... Loss: 1.4567... Val Loss: 1.4065\n",
      "Epoch: 12/20... Step: 1540... Loss: 1.4240... Val Loss: 1.4050\n",
      "Epoch: 12/20... Step: 1550... Loss: 1.4228... Val Loss: 1.4047\n",
      "Epoch: 12/20... Step: 1560... Loss: 1.4242... Val Loss: 1.3972\n",
      "Epoch: 12/20... Step: 1570... Loss: 1.3788... Val Loss: 1.4043\n",
      "Epoch: 12/20... Step: 1580... Loss: 1.3570... Val Loss: 1.4025\n",
      "Epoch: 12/20... Step: 1590... Loss: 1.3505... Val Loss: 1.3982\n",
      "Epoch: 12/20... Step: 1600... Loss: 1.3794... Val Loss: 1.3964\n",
      "Epoch: 12/20... Step: 1610... Loss: 1.3705... Val Loss: 1.3970\n",
      "Epoch: 12/20... Step: 1620... Loss: 1.3645... Val Loss: 1.3929\n",
      "Epoch: 12/20... Step: 1630... Loss: 1.3852... Val Loss: 1.3901\n",
      "Epoch: 12/20... Step: 1640... Loss: 1.3602... Val Loss: 1.3923\n",
      "Epoch: 12/20... Step: 1650... Loss: 1.3444... Val Loss: 1.3930\n",
      "Epoch: 12/20... Step: 1660... Loss: 1.4001... Val Loss: 1.3883\n",
      "Epoch: 13/20... Step: 1670... Loss: 1.3680... Val Loss: 1.3894\n",
      "Epoch: 13/20... Step: 1680... Loss: 1.3770... Val Loss: 1.3848\n",
      "Epoch: 13/20... Step: 1690... Loss: 1.3619... Val Loss: 1.3834\n",
      "Epoch: 13/20... Step: 1700... Loss: 1.3524... Val Loss: 1.3809\n",
      "Epoch: 13/20... Step: 1710... Loss: 1.3413... Val Loss: 1.3826\n",
      "Epoch: 13/20... Step: 1720... Loss: 1.3493... Val Loss: 1.3822\n",
      "Epoch: 13/20... Step: 1730... Loss: 1.3896... Val Loss: 1.3785\n",
      "Epoch: 13/20... Step: 1740... Loss: 1.3533... Val Loss: 1.3811\n",
      "Epoch: 13/20... Step: 1750... Loss: 1.3127... Val Loss: 1.3797\n",
      "Epoch: 13/20... Step: 1760... Loss: 1.3495... Val Loss: 1.3751\n",
      "Epoch: 13/20... Step: 1770... Loss: 1.3679... Val Loss: 1.3761\n",
      "Epoch: 13/20... Step: 1780... Loss: 1.3338... Val Loss: 1.3751\n",
      "Epoch: 13/20... Step: 1790... Loss: 1.3363... Val Loss: 1.3740\n",
      "Epoch: 13/20... Step: 1800... Loss: 1.3512... Val Loss: 1.3717\n",
      "Epoch: 14/20... Step: 1810... Loss: 1.3558... Val Loss: 1.3740\n",
      "Epoch: 14/20... Step: 1820... Loss: 1.3458... Val Loss: 1.3652\n",
      "Epoch: 14/20... Step: 1830... Loss: 1.3716... Val Loss: 1.3652\n",
      "Epoch: 14/20... Step: 1840... Loss: 1.3095... Val Loss: 1.3659\n",
      "Epoch: 14/20... Step: 1850... Loss: 1.2924... Val Loss: 1.3691\n",
      "Epoch: 14/20... Step: 1860... Loss: 1.3493... Val Loss: 1.3680\n",
      "Epoch: 14/20... Step: 1870... Loss: 1.3616... Val Loss: 1.3632\n",
      "Epoch: 14/20... Step: 1880... Loss: 1.3453... Val Loss: 1.3654\n",
      "Epoch: 14/20... Step: 1890... Loss: 1.3565... Val Loss: 1.3667\n",
      "Epoch: 14/20... Step: 1900... Loss: 1.3404... Val Loss: 1.3600\n",
      "Epoch: 14/20... Step: 1910... Loss: 1.3382... Val Loss: 1.3615\n",
      "Epoch: 14/20... Step: 1920... Loss: 1.3307... Val Loss: 1.3596\n",
      "Epoch: 14/20... Step: 1930... Loss: 1.2933... Val Loss: 1.3599\n",
      "Epoch: 14/20... Step: 1940... Loss: 1.3495... Val Loss: 1.3581\n",
      "Epoch: 15/20... Step: 1950... Loss: 1.3169... Val Loss: 1.3575\n",
      "Epoch: 15/20... Step: 1960... Loss: 1.3260... Val Loss: 1.3571\n",
      "Epoch: 15/20... Step: 1970... Loss: 1.3218... Val Loss: 1.3520\n",
      "Epoch: 15/20... Step: 1980... Loss: 1.3065... Val Loss: 1.3546\n",
      "Epoch: 15/20... Step: 1990... Loss: 1.3116... Val Loss: 1.3568\n",
      "Epoch: 15/20... Step: 2000... Loss: 1.3050... Val Loss: 1.3525\n",
      "Epoch: 15/20... Step: 2010... Loss: 1.3102... Val Loss: 1.3513\n",
      "Epoch: 15/20... Step: 2020... Loss: 1.3290... Val Loss: 1.3508\n",
      "Epoch: 15/20... Step: 2030... Loss: 1.2991... Val Loss: 1.3515\n",
      "Epoch: 15/20... Step: 2040... Loss: 1.3119... Val Loss: 1.3487\n",
      "Epoch: 15/20... Step: 2050... Loss: 1.3077... Val Loss: 1.3466\n",
      "Epoch: 15/20... Step: 2060... Loss: 1.3060... Val Loss: 1.3463\n",
      "Epoch: 15/20... Step: 2070... Loss: 1.3228... Val Loss: 1.3454\n",
      "Epoch: 15/20... Step: 2080... Loss: 1.3088... Val Loss: 1.3489\n",
      "Epoch: 16/20... Step: 2090... Loss: 1.3232... Val Loss: 1.3492\n",
      "Epoch: 16/20... Step: 2100... Loss: 1.2990... Val Loss: 1.3430\n",
      "Epoch: 16/20... Step: 2110... Loss: 1.2955... Val Loss: 1.3425\n",
      "Epoch: 16/20... Step: 2120... Loss: 1.3060... Val Loss: 1.3406\n",
      "Epoch: 16/20... Step: 2130... Loss: 1.2823... Val Loss: 1.3452\n",
      "Epoch: 16/20... Step: 2140... Loss: 1.2895... Val Loss: 1.3406\n",
      "Epoch: 16/20... Step: 2150... Loss: 1.3246... Val Loss: 1.3392\n",
      "Epoch: 16/20... Step: 2160... Loss: 1.2964... Val Loss: 1.3395\n",
      "Epoch: 16/20... Step: 2170... Loss: 1.2894... Val Loss: 1.3397\n",
      "Epoch: 16/20... Step: 2180... Loss: 1.2908... Val Loss: 1.3400\n",
      "Epoch: 16/20... Step: 2190... Loss: 1.3033... Val Loss: 1.3400\n",
      "Epoch: 16/20... Step: 2200... Loss: 1.2907... Val Loss: 1.3343\n",
      "Epoch: 16/20... Step: 2210... Loss: 1.2510... Val Loss: 1.3359\n",
      "Epoch: 16/20... Step: 2220... Loss: 1.3044... Val Loss: 1.3354\n",
      "Epoch: 17/20... Step: 2230... Loss: 1.2722... Val Loss: 1.3358\n",
      "Epoch: 17/20... Step: 2240... Loss: 1.2813... Val Loss: 1.3350\n",
      "Epoch: 17/20... Step: 2250... Loss: 1.2663... Val Loss: 1.3334\n",
      "Epoch: 17/20... Step: 2260... Loss: 1.2759... Val Loss: 1.3328\n",
      "Epoch: 17/20... Step: 2270... Loss: 1.2862... Val Loss: 1.3335\n",
      "Epoch: 17/20... Step: 2280... Loss: 1.2943... Val Loss: 1.3329\n",
      "Epoch: 17/20... Step: 2290... Loss: 1.2960... Val Loss: 1.3330\n",
      "Epoch: 17/20... Step: 2300... Loss: 1.2525... Val Loss: 1.3289\n",
      "Epoch: 17/20... Step: 2310... Loss: 1.2788... Val Loss: 1.3304\n",
      "Epoch: 17/20... Step: 2320... Loss: 1.2751... Val Loss: 1.3289\n",
      "Epoch: 17/20... Step: 2330... Loss: 1.2747... Val Loss: 1.3286\n",
      "Epoch: 17/20... Step: 2340... Loss: 1.2961... Val Loss: 1.3239\n",
      "Epoch: 17/20... Step: 2350... Loss: 1.2879... Val Loss: 1.3223\n",
      "Epoch: 17/20... Step: 2360... Loss: 1.2976... Val Loss: 1.3259\n",
      "Epoch: 18/20... Step: 2370... Loss: 1.2541... Val Loss: 1.3258\n",
      "Epoch: 18/20... Step: 2380... Loss: 1.2718... Val Loss: 1.3225\n",
      "Epoch: 18/20... Step: 2390... Loss: 1.2613... Val Loss: 1.3263\n",
      "Epoch: 18/20... Step: 2400... Loss: 1.2920... Val Loss: 1.3261\n",
      "Epoch: 18/20... Step: 2410... Loss: 1.2933... Val Loss: 1.3263\n",
      "Epoch: 18/20... Step: 2420... Loss: 1.2813... Val Loss: 1.3222\n",
      "Epoch: 18/20... Step: 2430... Loss: 1.2764... Val Loss: 1.3254\n",
      "Epoch: 18/20... Step: 2440... Loss: 1.2579... Val Loss: 1.3233\n",
      "Epoch: 18/20... Step: 2450... Loss: 1.2543... Val Loss: 1.3180\n",
      "Epoch: 18/20... Step: 2460... Loss: 1.2675... Val Loss: 1.3209\n",
      "Epoch: 18/20... Step: 2470... Loss: 1.2652... Val Loss: 1.3205\n",
      "Epoch: 18/20... Step: 2480... Loss: 1.2577... Val Loss: 1.3160\n",
      "Epoch: 18/20... Step: 2490... Loss: 1.2436... Val Loss: 1.3156\n",
      "Epoch: 18/20... Step: 2500... Loss: 1.2468... Val Loss: 1.3182\n",
      "Epoch: 19/20... Step: 2510... Loss: 1.2679... Val Loss: 1.3193\n",
      "Epoch: 19/20... Step: 2520... Loss: 1.2730... Val Loss: 1.3165\n",
      "Epoch: 19/20... Step: 2530... Loss: 1.2738... Val Loss: 1.3179\n",
      "Epoch: 19/20... Step: 2540... Loss: 1.2789... Val Loss: 1.3147\n",
      "Epoch: 19/20... Step: 2550... Loss: 1.2455... Val Loss: 1.3174\n",
      "Epoch: 19/20... Step: 2560... Loss: 1.2631... Val Loss: 1.3142\n",
      "Epoch: 19/20... Step: 2570... Loss: 1.2436... Val Loss: 1.3144\n",
      "Epoch: 19/20... Step: 2580... Loss: 1.2857... Val Loss: 1.3151\n",
      "Epoch: 19/20... Step: 2590... Loss: 1.2419... Val Loss: 1.3116\n",
      "Epoch: 19/20... Step: 2600... Loss: 1.2448... Val Loss: 1.3122\n",
      "Epoch: 19/20... Step: 2610... Loss: 1.2597... Val Loss: 1.3122\n",
      "Epoch: 19/20... Step: 2620... Loss: 1.2349... Val Loss: 1.3076\n",
      "Epoch: 19/20... Step: 2630... Loss: 1.2384... Val Loss: 1.3057\n",
      "Epoch: 19/20... Step: 2640... Loss: 1.2522... Val Loss: 1.3092\n",
      "Epoch: 20/20... Step: 2650... Loss: 1.2557... Val Loss: 1.3082\n"
     ]
    },
    {
     "name": "stdout",
     "output_type": "stream",
     "text": [
      "Epoch: 20/20... Step: 2660... Loss: 1.2467... Val Loss: 1.3102\n",
      "Epoch: 20/20... Step: 2670... Loss: 1.2690... Val Loss: 1.3082\n",
      "Epoch: 20/20... Step: 2680... Loss: 1.2620... Val Loss: 1.3074\n",
      "Epoch: 20/20... Step: 2690... Loss: 1.2459... Val Loss: 1.3082\n",
      "Epoch: 20/20... Step: 2700... Loss: 1.2559... Val Loss: 1.3079\n",
      "Epoch: 20/20... Step: 2710... Loss: 1.2276... Val Loss: 1.3072\n",
      "Epoch: 20/20... Step: 2720... Loss: 1.2298... Val Loss: 1.3086\n",
      "Epoch: 20/20... Step: 2730... Loss: 1.2180... Val Loss: 1.3049\n",
      "Epoch: 20/20... Step: 2740... Loss: 1.2282... Val Loss: 1.3058\n",
      "Epoch: 20/20... Step: 2750... Loss: 1.2272... Val Loss: 1.3076\n",
      "Epoch: 20/20... Step: 2760... Loss: 1.2252... Val Loss: 1.3033\n",
      "Epoch: 20/20... Step: 2770... Loss: 1.2516... Val Loss: 1.3005\n",
      "Epoch: 20/20... Step: 2780... Loss: 1.2856... Val Loss: 1.2994\n"
     ]
    }
   ],
   "source": [
    "batch_size = 128\n",
    "seq_length = 100\n",
    "n_epochs = 20 # start smaller if you are just testing initial behavior\n",
    "\n",
    "# train the model\n",
    "train(net, encoded, epochs=n_epochs, batch_size=batch_size, seq_length=seq_length, lr=0.001, print_every=10)"
   ]
  },
  {
   "cell_type": "markdown",
   "metadata": {},
   "source": [
    "## Getting the best model\n",
    "\n",
    "To set your hyperparameters to get the best performance, you'll want to watch the training and validation losses. If your training loss is much lower than the validation loss, you're overfitting. Increase regularization (more dropout) or use a smaller network. If the training and validation losses are close, you're underfitting so you can increase the size of the network."
   ]
  },
  {
   "cell_type": "markdown",
   "metadata": {},
   "source": [
    "## Hyperparameters\n",
    "\n",
    "Here are the hyperparameters for the network.\n",
    "\n",
    "In defining the model:\n",
    "* `n_hidden` - The number of units in the hidden layers.\n",
    "* `n_layers` - Number of hidden LSTM layers to use.\n",
    "\n",
    "We assume that dropout probability and learning rate will be kept at the default, in this example.\n",
    "\n",
    "And in training:\n",
    "* `batch_size` - Number of sequences running through the network in one pass.\n",
    "* `seq_length` - Number of characters in the sequence the network is trained on. Larger is better typically, the network will learn more long range dependencies. But it takes longer to train. 100 is typically a good number here.\n",
    "* `lr` - Learning rate for training\n",
    "\n",
    "Here's some good advice from Andrej Karpathy on training the network. I'm going to copy it in here for your benefit, but also link to [where it originally came from](https://github.com/karpathy/char-rnn#tips-and-tricks).\n",
    "\n",
    "> ## Tips and Tricks\n",
    "\n",
    ">### Monitoring Validation Loss vs. Training Loss\n",
    ">If you're somewhat new to Machine Learning or Neural Networks it can take a bit of expertise to get good models. The most important quantity to keep track of is the difference between your training loss (printed during training) and the validation loss (printed once in a while when the RNN is run on the validation data (by default every 1000 iterations)). In particular:\n",
    "\n",
    "> - If your training loss is much lower than validation loss then this means the network might be **overfitting**. Solutions to this are to decrease your network size, or to increase dropout. For example you could try dropout of 0.5 and so on.\n",
    "> - If your training/validation loss are about equal then your model is **underfitting**. Increase the size of your model (either number of layers or the raw number of neurons per layer)\n",
    "\n",
    "> ### Approximate number of parameters\n",
    "\n",
    "> The two most important parameters that control the model are `n_hidden` and `n_layers`. I would advise that you always use `n_layers` of either 2/3. The `n_hidden` can be adjusted based on how much data you have. The two important quantities to keep track of here are:\n",
    "\n",
    "> - The number of parameters in your model. This is printed when you start training.\n",
    "> - The size of your dataset. 1MB file is approximately 1 million characters.\n",
    "\n",
    ">These two should be about the same order of magnitude. It's a little tricky to tell. Here are some examples:\n",
    "\n",
    "> - I have a 100MB dataset and I'm using the default parameter settings (which currently print 150K parameters). My data size is significantly larger (100 mil >> 0.15 mil), so I expect to heavily underfit. I am thinking I can comfortably afford to make `n_hidden` larger.\n",
    "> - I have a 10MB dataset and running a 10 million parameter model. I'm slightly nervous and I'm carefully monitoring my validation loss. If it's larger than my training loss then I may want to try to increase dropout a bit and see if that helps the validation loss.\n",
    "\n",
    "> ### Best models strategy\n",
    "\n",
    ">The winning strategy to obtaining very good models (if you have the compute time) is to always err on making the network larger (as large as you're willing to wait for it to compute) and then try different dropout values (between 0,1). Whatever model has the best validation performance (the loss, written in the checkpoint filename, low is good) is the one you should use in the end.\n",
    "\n",
    ">It is very common in deep learning to run many different models with many different hyperparameter settings, and in the end take whatever checkpoint gave the best validation performance.\n",
    "\n",
    ">By the way, the size of your training and validation splits are also parameters. Make sure you have a decent amount of data in your validation set or otherwise the validation performance will be noisy and not very informative."
   ]
  },
  {
   "cell_type": "markdown",
   "metadata": {},
   "source": [
    "## Checkpoint\n",
    "\n",
    "After training, we'll save the model so we can load it again later if we need too. Here I'm saving the parameters needed to create the same architecture, the hidden layer hyperparameters and the text characters."
   ]
  },
  {
   "cell_type": "code",
   "execution_count": 17,
   "metadata": {},
   "outputs": [],
   "source": [
    "# change the name, for saving multiple files\n",
    "model_name = 'rnn_x_epoch.net'\n",
    "\n",
    "checkpoint = {'n_hidden': net.n_hidden,\n",
    "              'n_layers': net.n_layers,\n",
    "              'state_dict': net.state_dict(),\n",
    "              'tokens': net.chars}\n",
    "\n",
    "with open(model_name, 'wb') as f:\n",
    "    torch.save(checkpoint, f)"
   ]
  },
  {
   "cell_type": "markdown",
   "metadata": {},
   "source": [
    "---\n",
    "## Making Predictions\n",
    "\n",
    "Now that the model is trained, we'll want to sample from it and make predictions about next characters! To sample, we pass in a character and have the network predict the next character. Then we take that character, pass it back in, and get another predicted character. Just keep doing this and you'll generate a bunch of text!\n",
    "\n",
    "### A note on the `predict`  function\n",
    "\n",
    "The output of our RNN is from a fully-connected layer and it outputs a **distribution of next-character scores**.\n",
    "\n",
    "> To actually get the next character, we apply a softmax function, which gives us a *probability* distribution that we can then sample to predict the next character.\n",
    "\n",
    "### Top K sampling\n",
    "\n",
    "Our predictions come from a categorical probability distribution over all the possible characters. We can make the sample text and make it more reasonable to handle (with less variables) by only considering some $K$ most probable characters. This will prevent the network from giving us completely absurd characters while allowing it to introduce some noise and randomness into the sampled text. Read more about [topk, here](https://pytorch.org/docs/stable/torch.html#torch.topk).\n"
   ]
  },
  {
   "cell_type": "code",
   "execution_count": 18,
   "metadata": {},
   "outputs": [],
   "source": [
    "def predict(net, char, h=None, top_k=None):\n",
    "        ''' Given a character, predict the next character.\n",
    "            Returns the predicted character and the hidden state.\n",
    "        '''\n",
    "        \n",
    "        # tensor inputs\n",
    "        x = np.array([[net.char2int[char]]])\n",
    "        x = one_hot_encode(x, len(net.chars))\n",
    "        inputs = torch.from_numpy(x)\n",
    "        \n",
    "        if(train_on_gpu):\n",
    "            inputs = inputs.cuda()\n",
    "        \n",
    "        # detach hidden state from history\n",
    "        h = tuple([each.data for each in h])\n",
    "        # get the output of the model\n",
    "        out, h = net(inputs, h)\n",
    "\n",
    "        # get the character probabilities\n",
    "        p = F.softmax(out, dim=1).data\n",
    "        if(train_on_gpu):\n",
    "            p = p.cpu() # move to cpu\n",
    "        \n",
    "        # get top characters\n",
    "        if top_k is None:\n",
    "            top_ch = np.arange(len(net.chars))\n",
    "        else:\n",
    "            p, top_ch = p.topk(top_k)\n",
    "            top_ch = top_ch.numpy().squeeze()\n",
    "        \n",
    "        # select the likely next character with some element of randomness\n",
    "        p = p.numpy().squeeze()\n",
    "        char = np.random.choice(top_ch, p=p/p.sum())\n",
    "        \n",
    "        # return the encoded value of the predicted char and the hidden state\n",
    "        return net.int2char[char], h"
   ]
  },
  {
   "cell_type": "markdown",
   "metadata": {},
   "source": [
    "### Priming and generating text \n",
    "\n",
    "Typically you'll want to prime the network so you can build up a hidden state. Otherwise the network will start out generating characters at random. In general the first bunch of characters will be a little rough since it hasn't built up a long history of characters to predict from."
   ]
  },
  {
   "cell_type": "code",
   "execution_count": 19,
   "metadata": {},
   "outputs": [],
   "source": [
    "def sample(net, size, prime='The', top_k=None):\n",
    "        \n",
    "    if(train_on_gpu):\n",
    "        net.cuda()\n",
    "    else:\n",
    "        net.cpu()\n",
    "    \n",
    "    net.eval() # eval mode\n",
    "    \n",
    "    # First off, run through the prime characters\n",
    "    chars = [ch for ch in prime]\n",
    "    h = net.init_hidden(1)\n",
    "    for ch in prime:\n",
    "        char, h = predict(net, ch, h, top_k=top_k)\n",
    "\n",
    "    chars.append(char)\n",
    "    \n",
    "    # Now pass in the previous character and get a new one\n",
    "    for ii in range(size):\n",
    "        char, h = predict(net, chars[-1], h, top_k=top_k)\n",
    "        chars.append(char)\n",
    "\n",
    "    return ''.join(chars)"
   ]
  },
  {
   "cell_type": "code",
   "execution_count": 20,
   "metadata": {},
   "outputs": [
    {
     "name": "stdout",
     "output_type": "stream",
     "text": [
      "Anna\n",
      "Alexey Alexandrovitch with a broken officer and had brought the pose, he could not tell them, bright, the secrets was\n",
      "always, but at her heart wind at\n",
      "all hearing,\n",
      "when the matter went to his strange secretary, but the sound of the peasants\n",
      "had not saying an exception and\n",
      "sority, at the colonel, she stood his father with a father to\n",
      "his\n",
      "feet to be done, and and standing himself, and said. He had seen them.\n",
      "\n",
      "\"I don't believe him in the way to say if it is always still to blame that. Why im I am in a betreas. And it would not be settled on her has. I can't believe it would be suct an old princess in the same man. In such a men always been\n",
      "and mustrous horses.\"\n",
      "\n",
      "The crean as though towards his brother's face with\n",
      "her\n",
      "first service.\n",
      "\n",
      "\"What would you be it? It are the marriage. I could never think,\" she said, smiling, and the day to the colonel things a smile.\n",
      "\n",
      "\"I'll think that is a continually arrived, I shall not go in to him?\" he said to them, and still he said in the recognize and with \n"
     ]
    }
   ],
   "source": [
    "print(sample(net, 1000, prime='Anna', top_k=5))"
   ]
  },
  {
   "cell_type": "markdown",
   "metadata": {},
   "source": [
    "## Loading a checkpoint"
   ]
  },
  {
   "cell_type": "code",
   "execution_count": 21,
   "metadata": {},
   "outputs": [
    {
     "data": {
      "text/plain": [
       "<All keys matched successfully>"
      ]
     },
     "execution_count": 21,
     "metadata": {},
     "output_type": "execute_result"
    }
   ],
   "source": [
    "# Here we have loaded in a model that trained over 20 epochs `rnn_20_epoch.net`\n",
    "with open('rnn_x_epoch.net', 'rb') as f:\n",
    "    checkpoint = torch.load(f)\n",
    "    \n",
    "loaded = CharRNN(checkpoint['tokens'], n_hidden=checkpoint['n_hidden'], n_layers=checkpoint['n_layers'])\n",
    "loaded.load_state_dict(checkpoint['state_dict'])"
   ]
  },
  {
   "cell_type": "code",
   "execution_count": 22,
   "metadata": {},
   "outputs": [
    {
     "name": "stdout",
     "output_type": "stream",
     "text": [
      "And Levin said: \"With machine. I could be so looks,\" she said,\n",
      "looking at the sare, and answering her such thoughts were a legs, but in her coals to say that the carriage was not a little time, the considered\n",
      "of his father, and he seemed to say with her the streath. All the same stock, the people took him a book take his hen tanks, but\n",
      "he felt that he was asking him\n",
      "in what had seen his husband of such coming fellow. There had not been seeing those\n",
      "cap of the position, and that\n",
      "in the side of the sensation he had said to her,\n",
      "and he could not be sent off at the\n",
      "threw in\n",
      "still the cart, and she saw this feeling that he was a contitual side there was no sink to his father. He was daughter, the stoubless they had\n",
      "been asking a friend of silence. She had been a long whole saying sitting, back he had several\n",
      "talling when the present women of his studying of his head, and\n",
      "she would not help\n",
      "blud the best, and was too, but she could not help the position with this subject at his wheal. As though her divinient with his\n",
      "face was stool, and though she was not the middle of all the sight of\n",
      "his face, and still say to the more than some setting him for him with them, which he had to come in with how how\n",
      "she had no sort of his sore, he sat down into she had been a first\n",
      "disturbed him, but at the mass of the side of the mad on his sensial strength that had been\n",
      "doing the second steps,\n",
      "but he went up to him. \"Well, I'm not so interested before him!\" said Stepan Arkadyevitch, laughing, \"to despaure you the persons in the course of her.\"\n",
      "\n",
      "\"Well, we can't be stood on her is. It\n",
      "would not himself as\n",
      "she had some passion to\n",
      "see you, and I would\n",
      "be such there will think of my whole party,\" he her brows. The chair, a small of talk of them,\n",
      "short at the position in shall. This cas sereng her\n",
      "soft was complaining that she could not think to him that the pensipe who was taking of the same thing what seemed\n",
      "the colonel of her.\n",
      "\n",
      "Seryozha, himself that he would have been to think that the meaning\n",
      "of which he\n"
     ]
    }
   ],
   "source": [
    "# Sample using a loaded model\n",
    "print(sample(loaded, 2000, top_k=5, prime=\"And Levin said\"))"
   ]
  },
  {
   "cell_type": "code",
   "execution_count": null,
   "metadata": {
    "collapsed": true
   },
   "outputs": [],
   "source": []
  }
 ],
 "metadata": {
  "kernelspec": {
   "display_name": "Python 3",
   "language": "python",
   "name": "python3"
  },
  "language_info": {
   "codemirror_mode": {
    "name": "ipython",
    "version": 3
   },
   "file_extension": ".py",
   "mimetype": "text/x-python",
   "name": "python",
   "nbconvert_exporter": "python",
   "pygments_lexer": "ipython3",
   "version": "3.6.13"
  }
 },
 "nbformat": 4,
 "nbformat_minor": 2
}
