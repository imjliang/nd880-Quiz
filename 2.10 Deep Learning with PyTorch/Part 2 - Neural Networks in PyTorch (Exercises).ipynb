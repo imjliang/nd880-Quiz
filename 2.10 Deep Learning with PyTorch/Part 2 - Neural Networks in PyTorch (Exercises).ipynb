{
 "cells": [
  {
   "cell_type": "markdown",
   "metadata": {},
   "source": [
    "# Neural networks with PyTorch\n",
    "\n",
    "Deep learning networks tend to be massive with dozens or hundreds of layers, that's where the term \"deep\" comes from. You can build one of these deep networks using only weight matrices as we did in the previous notebook, but in general it's very cumbersome and difficult to implement. PyTorch has a nice module `nn` that provides a nice way to efficiently build large neural networks."
   ]
  },
  {
   "cell_type": "code",
   "execution_count": 1,
   "metadata": {},
   "outputs": [],
   "source": [
    "# Import necessary packages\n",
    "\n",
    "%matplotlib inline\n",
    "%config InlineBackend.figure_format = 'retina'\n",
    "\n",
    "import numpy as np\n",
    "import torch\n",
    "\n",
    "import helper\n",
    "\n",
    "import matplotlib.pyplot as plt"
   ]
  },
  {
   "cell_type": "markdown",
   "metadata": {},
   "source": [
    "\n",
    "Now we're going to build a larger network that can solve a (formerly) difficult problem, identifying text in an image. Here we'll use the MNIST dataset which consists of greyscale handwritten digits. Each image is 28x28 pixels, you can see a sample below\n",
    "\n",
    "<img src='assets/mnist.png'>\n",
    "\n",
    "Our goal is to build a neural network that can take one of these images and predict the digit in the image.\n",
    "\n",
    "First up, we need to get our dataset. This is provided through the `torchvision` package. The code below will download the MNIST dataset, then create training and test datasets for us. Don't worry too much about the details here, you'll learn more about this later."
   ]
  },
  {
   "cell_type": "code",
   "execution_count": 2,
   "metadata": {},
   "outputs": [
    {
     "name": "stdout",
     "output_type": "stream",
     "text": [
      "Downloading http://yann.lecun.com/exdb/mnist/train-images-idx3-ubyte.gz\n",
      "Downloading http://yann.lecun.com/exdb/mnist/train-labels-idx1-ubyte.gz\n",
      "Downloading http://yann.lecun.com/exdb/mnist/t10k-images-idx3-ubyte.gz\n",
      "Downloading http://yann.lecun.com/exdb/mnist/t10k-labels-idx1-ubyte.gz\n",
      "Processing...\n",
      "Done!\n"
     ]
    }
   ],
   "source": [
    "### Run this cell\n",
    "\n",
    "from torchvision import datasets, transforms\n",
    "\n",
    "# Define a transform to normalize the data\n",
    "transform = transforms.Compose([transforms.ToTensor(),\n",
    "                              transforms.Normalize((0.5,), (0.5,)),\n",
    "                              ])\n",
    "\n",
    "# Download and load the training data\n",
    "trainset = datasets.MNIST('~/.pytorch/MNIST_data/', download=True, train=True, transform=transform)\n",
    "trainloader = torch.utils.data.DataLoader(trainset, batch_size=64, shuffle=True)"
   ]
  },
  {
   "cell_type": "markdown",
   "metadata": {},
   "source": [
    "We have the training data loaded into `trainloader` and we make that an iterator with `iter(trainloader)`. Later, we'll use this to loop through the dataset for training, like\n",
    "\n",
    "```python\n",
    "for image, label in trainloader:\n",
    "    ## do things with images and labels\n",
    "```\n",
    "\n",
    "You'll notice I created the `trainloader` with a batch size of 64, and `shuffle=True`. The batch size is the number of images we get in one iteration from the data loader and pass through our network, often called a *batch*. And `shuffle=True` tells it to shuffle the dataset every time we start going through the data loader again. But here I'm just grabbing the first batch so we can check out the data. We can see below that `images` is just a tensor with size `(64, 1, 28, 28)`. So, 64 images per batch, 1 color channel, and 28x28 images."
   ]
  },
  {
   "cell_type": "code",
   "execution_count": 3,
   "metadata": {},
   "outputs": [
    {
     "name": "stdout",
     "output_type": "stream",
     "text": [
      "<class 'torch.Tensor'>\n",
      "torch.Size([64, 1, 28, 28])\n",
      "torch.Size([64])\n"
     ]
    }
   ],
   "source": [
    "dataiter = iter(trainloader)\n",
    "images, labels = dataiter.next()\n",
    "print(type(images))\n",
    "print(images.shape)\n",
    "print(labels.shape)"
   ]
  },
  {
   "cell_type": "markdown",
   "metadata": {},
   "source": [
    "This is what one of the images looks like. "
   ]
  },
  {
   "cell_type": "code",
   "execution_count": 4,
   "metadata": {},
   "outputs": [
    {
     "data": {
      "image/png": "[encoded data removed]",
      "text/plain": [
       "<matplotlib.figure.Figure at 0x7f17d835b7f0>"
      ]
     },
     "metadata": {
      "image/png": {
       "height": 250,
       "width": 253
      },
      "needs_background": "light"
     },
     "output_type": "display_data"
    }
   ],
   "source": [
    "plt.imshow(images[1].numpy().squeeze(), cmap='Greys_r');"
   ]
  },
  {
   "cell_type": "markdown",
   "metadata": {},
   "source": [
    "First, let's try to build a simple network for this dataset using weight matrices and matrix multiplications. Then, we'll see how to do it using PyTorch's `nn` module which provides a much more convenient and powerful method for defining network architectures.\n",
    "\n",
    "The networks you've seen so far are called *fully-connected* or *dense* networks. Each unit in one layer is connected to each unit in the next layer. In fully-connected networks, the input to each layer must be a one-dimensional vector (which can be stacked into a 2D tensor as a batch of multiple examples). However, our images are 28x28 2D tensors, so we need to convert them into 1D vectors. Thinking about sizes, we need to convert the batch of images with shape `(64, 1, 28, 28)` to a have a shape of `(64, 784)`, 784 is 28 times 28. This is typically called *flattening*, we flattened the 2D images into 1D vectors.\n",
    "\n",
    "Previously you built a network with one output unit. Here we need 10 output units, one for each digit. We want our network to predict the digit shown in an image, so what we'll do is calculate probabilities that the image is of any one digit or class. This ends up being a discrete probability distribution over the classes (digits) that tells us the most likely class for the image. That means we need 10 output units for the 10 classes (digits). We'll see how to convert the network output into a probability distribution next.\n",
    "\n",
    "> **Exercise:** Flatten the batch of images `images`. Then build a multi-layer network with 784 input units, 256 hidden units, and 10 output units using random tensors for the weights and biases. For now, use a sigmoid activation for the hidden layer. Leave the output layer without an activation, we'll add one that gives us a probability distribution next."
   ]
  },
  {
   "cell_type": "code",
   "execution_count": 6,
   "metadata": {},
   "outputs": [],
   "source": [
    "## Solution\n",
    "def activation(x):\n",
    "    return 1/(1+torch.exp(-x))\n",
    "\n",
    "# Flatten the input images\n",
    "inputs = images.view(images.shape[0], -1)\n",
    "\n",
    "# Create parameters\n",
    "w1 = torch.randn(784, 256)\n",
    "b1 = torch.randn(256)\n",
    "\n",
    "w2 = torch.randn(256, 10)\n",
    "b2 = torch.randn(10)\n",
    "\n",
    "h = activation(torch.mm(inputs, w1) + b1)\n",
    "\n",
    "out = torch.mm(h, w2) + b2"
   ]
  },
  {
   "cell_type": "code",
   "execution_count": 7,
   "metadata": {},
   "outputs": [
    {
     "name": "stdout",
     "output_type": "stream",
     "text": [
      "tensor([[  3.1789,  -0.7098,  -4.0952, -13.1203,  -9.5417,  16.7794,\n",
      "          -0.3426,  -4.9613,  10.1133, -17.3326],\n",
      "        [ 10.1718,   2.8385,  15.8641, -13.9611, -12.4860,  13.8881,\n",
      "           3.2449,  -6.4784,  18.4581, -12.1445],\n",
      "        [ 15.4433,   4.4107,   4.7864, -16.4484,  -9.2413,  17.2445,\n",
      "           4.7036,  -2.8291,  12.6413, -20.5090],\n",
      "        [ 16.4981,  10.4414,   2.2654,  -8.6143, -19.0644,  15.2009,\n",
      "           4.4864,  -7.0263,  11.9346,  -8.0531],\n",
      "        [ 10.2797,  12.9176,   4.4095,  -8.9587, -11.6688,  10.4262,\n",
      "           3.4779,  -6.3753,   9.1567,  -7.2092],\n",
      "        [ 16.9183,  10.7581,   4.1970,  -8.0528,  -6.4505,  16.9432,\n",
      "          12.3837,  -8.3782,  18.2446,   2.1943],\n",
      "        [ 15.8208,   0.8827,   2.7646, -11.7782,  -6.0304,  16.2000,\n",
      "          14.9241,  -6.2822,  13.1762, -16.3617],\n",
      "        [ -0.8764,   5.2790,   0.8074,  -1.1820,  -6.2522,  20.8900,\n",
      "          -3.2681,  -2.3527,  13.4218,  -4.4348],\n",
      "        [ 12.1748,   6.9075,  -0.0401,  -5.0367,  -2.8032,  10.7421,\n",
      "          12.2386,  -2.8783,   8.0746,  -4.1623],\n",
      "        [  4.2197,   9.6297,  -4.3333,   1.4595, -13.8691,  22.1583,\n",
      "           6.5306,  -7.7775,   5.2139,  -1.8356],\n",
      "        [ 17.5885,  11.1892,   4.0574, -11.4209, -11.0718,  20.8690,\n",
      "           5.4642,  -6.5573,  17.4063,  -1.1572],\n",
      "        [ 14.5604,   0.4226,   5.4983,  -9.4627, -13.2618,   5.5611,\n",
      "           4.8381,  -7.8574,   9.1875,  -3.1248],\n",
      "        [ 18.7676,  16.8864,   2.6343,  -8.8569, -13.2674,  16.6166,\n",
      "           4.8232,  -5.9318,  17.4507,   3.0023],\n",
      "        [ 21.9341,   7.9141,  10.2270, -18.5522,  -5.7705,  10.3968,\n",
      "           2.7522,  -8.2224,   8.1699, -17.5770],\n",
      "        [ 15.7053,   5.9262,   7.9654,  -9.6905,  -7.0356,  19.0485,\n",
      "           6.5579,  -0.2995,   9.8080, -19.4717],\n",
      "        [ 16.0398,   4.0255,   7.4018,  -3.1592,  -0.7261,  17.4516,\n",
      "           7.9011,   4.0180,  12.6790, -10.2180],\n",
      "        [  8.8063,  -9.8540,   4.4041,  -8.1825, -10.8976,  14.3128,\n",
      "           9.3635,  -5.5475,   3.1216,  -6.4614],\n",
      "        [ 26.6542,   5.3450,   5.8099,  -8.1958,  -8.7297,  20.5858,\n",
      "          11.2527,  -5.5345,   7.6528,  -7.4219],\n",
      "        [ 16.6453,  12.8540,   2.2115,  -5.2798, -10.4547,  12.6393,\n",
      "          10.9128,  -9.9778,  10.0156,  -8.9512],\n",
      "        [ 13.6448,   1.5078,   8.7229, -12.9181, -10.1968,  13.2178,\n",
      "           5.1044,  -6.8217,  13.7082,  -7.1260],\n",
      "        [ 10.6937,   2.5805,   5.7018, -13.4268, -14.0785,  13.8151,\n",
      "           8.4432,  -1.8108,  14.7425,  -8.9928],\n",
      "        [  0.2428,   1.6737,  -6.3694, -19.4486, -20.0506,   9.3988,\n",
      "           5.3667,  -0.0940,  24.7850,  -9.1626],\n",
      "        [ -1.4437,  -0.1798,  -6.6026, -11.0587, -15.2557,  10.8910,\n",
      "          -1.9114,  -2.8072,   6.3623,  -5.8392],\n",
      "        [  1.1194,  -1.5186,   9.8112,   1.5925,  -0.5370,  12.7536,\n",
      "           4.0066,  -4.1043,  12.8645,  -3.2560],\n",
      "        [  7.1768,   3.7947,   3.2013,  -9.4748,  -4.3852,  23.1412,\n",
      "           8.9429,  -1.7632,  13.9915, -11.7305],\n",
      "        [ 10.4395,  12.5421,  -0.6901,  -8.5444, -16.7951,   6.0408,\n",
      "           7.4164,  -6.4958,  11.2185,  -8.5900],\n",
      "        [ 11.2319,   1.1023,  10.6438,  -6.4558,  -8.8254,  23.0059,\n",
      "          15.8711,  -6.8668,  12.1942,  -2.4763],\n",
      "        [  8.4680,   6.0026,   3.7611, -15.5142, -19.5856,  29.9587,\n",
      "          -5.6457,  -4.7200,  21.6487, -11.8198],\n",
      "        [  6.7629,   9.0213,   5.4360, -15.4009, -13.3480,   4.3170,\n",
      "           2.4511,  -6.7317,  10.7870,  -7.4296],\n",
      "        [ 22.5561,   7.8017,   6.4742, -14.3354,  -8.4658,  15.8870,\n",
      "           9.3568,   2.9360,  18.2033,  -1.3673],\n",
      "        [  6.0653,  -0.5366,   2.8876,  -2.5530,  -6.2103,  19.7515,\n",
      "           7.6497,  -2.6868,  13.9857,  -5.4920],\n",
      "        [ 11.6732,   9.5892,   5.6122, -21.9138,  -4.7923,  17.9602,\n",
      "           3.0762, -11.6087,   9.5243, -10.6383],\n",
      "        [ 15.0467,  -2.4247,   6.1273,  -3.9010, -12.7312,  18.4059,\n",
      "           0.7145, -10.7852,  12.4690, -10.7466],\n",
      "        [  7.2231,   8.3327,   7.1820, -14.3026, -14.6569,  12.3767,\n",
      "           1.8550,  -3.1818,  12.0371, -21.3639],\n",
      "        [ 22.2851,   8.1935,   4.7159,  -8.8327, -14.3928,  24.0863,\n",
      "          14.7127,  -9.5596,  17.3140,  -7.4581],\n",
      "        [  2.0755,   8.7827,  -3.7429,  -8.1528, -17.0390,   9.1874,\n",
      "          -6.0207,   6.9524,  14.2755, -20.9465],\n",
      "        [  2.4632,   3.7550,   1.9327,  -9.3102,  -3.3505,   4.6537,\n",
      "          -0.6773,  -2.6184,  16.4346, -12.3824],\n",
      "        [ 22.1824,   0.4376,   5.0760, -10.7707, -14.3239,  33.6168,\n",
      "           6.8022,  -8.8569,   9.9563, -15.6490],\n",
      "        [ 23.1532,   5.7676,   7.7615,  -8.8302,  -0.3298,  23.8311,\n",
      "          12.6891,  -2.7291,  22.3813,  -5.5195],\n",
      "        [ 13.2537,   7.6685,   4.2285, -17.1367,  -7.2421,   8.2371,\n",
      "           8.8984, -16.6192,  20.4147,  -7.9996],\n",
      "        [ 15.7454,   2.5758,   1.9649, -11.4147,  -7.7706,   8.0830,\n",
      "          10.8849,  -8.5993,  14.2869, -12.3612],\n",
      "        [ 17.6454,   9.3067,  -0.8746, -12.3351, -14.1744,  13.0671,\n",
      "           5.0927,  -8.4172,   8.9069, -12.3996],\n",
      "        [ 19.6755,  18.2454,   1.1192, -10.7366, -20.0973,   8.6904,\n",
      "          12.9110, -14.1403,   8.0875, -18.6167],\n",
      "        [ 12.2033,   6.9734,   4.0060, -12.4285, -12.5458,  10.0710,\n",
      "           7.3066,  -6.6689,   6.8312,  -6.3279],\n",
      "        [ 17.5628,   8.7776,   6.6206, -11.6467, -11.9744,  17.0354,\n",
      "          -2.5234,  -4.9907,   2.2567,  -3.0081],\n",
      "        [ -2.3886,   2.7199,  -4.1897, -10.4385, -11.3326,  13.9263,\n",
      "          12.0981,  -8.5869,   6.0846,  -9.4462],\n",
      "        [ 12.0059,   0.8268,   3.4159, -10.7119, -11.9306,  15.2216,\n",
      "           4.1340,  -9.6421,   8.2298, -14.5357],\n",
      "        [ 18.0687,   1.2956,   5.5311,  -3.6845, -20.2471,  11.0235,\n",
      "           7.7355,  -4.0582,   9.6979,  -7.8477],\n",
      "        [ 10.6290,   6.3285,   0.5904, -13.9829,  -9.3717,  24.0560,\n",
      "           2.1567,  -6.2373,  18.4343,   6.5160],\n",
      "        [  9.2370,   7.3340,   4.3376,  -6.0046,  -5.5039,  21.3043,\n",
      "          12.1260,  -7.9481,   8.6893,  -7.0268],\n",
      "        [  4.5291,  -0.4127,  -3.9501,  -7.3197,  -7.8454,  13.6984,\n",
      "           5.2700,  -0.9534,  10.6478, -17.1260],\n",
      "        [ 14.4392,  14.1587,   7.3759, -18.6974,  -9.8034,   4.3326,\n",
      "           1.3437,  -5.6677,   4.5381,  -6.8000],\n",
      "        [ 15.5215,   5.1230,  -2.7337,  -3.5926,  -7.5990,  15.6733,\n",
      "           7.4756,  -4.5238,  14.1189,  -6.5595],\n",
      "        [ 11.9618,   4.7542,   1.4138,  -4.0140, -12.9821,  23.1764,\n",
      "           4.8232,  -1.7918,  18.0609,   3.3551],\n",
      "        [ 24.0166,   5.4074,   9.0196,   2.5985,  -1.1557,  15.4534,\n",
      "           0.3391,  -3.0605,   9.0467,   1.1938],\n",
      "        [ 19.1123,  -6.8908,   5.8598,  -8.2687,  -6.0599,  11.8837,\n",
      "          -1.0771,  -9.5914,   9.4144, -10.9353],\n",
      "        [ 16.7727,   2.1080,   3.5018, -12.0165, -17.8357,   6.6942,\n",
      "           8.5156,  -8.2803,  14.3130,  -8.2885],\n",
      "        [ 18.7966,  17.3904,  -0.8200, -11.7477,  -1.9098,  22.4085,\n",
      "           7.8837,  -8.7199,  11.1262,  -1.0912],\n",
      "        [ -2.8517,   1.6171,   1.3168,  -4.5417, -11.7845,  13.3868,\n",
      "           8.0162,  -4.6140,   6.3321,  -8.6294],\n",
      "        [  3.6040,  10.8294,   6.3152, -10.1920, -17.3724,  10.0162,\n",
      "           1.4931,   0.1776,   6.4120,  -9.7693],\n",
      "        [ 15.5714,   3.7421,  10.9051,  -7.8386, -18.4411,  13.0480,\n",
      "           9.8755,  -0.5150,  13.7672,  -9.4230],\n",
      "        [ 19.5629,   2.3732,   2.1025, -10.4557, -16.0311,  11.9076,\n",
      "           2.9701,  -1.4008,  16.0413,  -2.4356],\n",
      "        [ 22.1056,  13.1828,   2.8321, -16.4454,  -9.1434,  23.1586,\n",
      "           7.6365, -10.8876,  17.1872,   3.6737],\n",
      "        [  3.6431,   7.0505,   5.3456,  -6.5820, -12.0515,  20.7588,\n",
      "          -7.5993,  -0.5573,  15.1429,  -6.5323]])\n"
     ]
    }
   ],
   "source": [
    "print(out)"
   ]
  },
  {
   "cell_type": "markdown",
   "metadata": {},
   "source": [
    "Now we have 10 outputs for our network. We want to pass in an image to our network and get out a probability distribution over the classes that tells us the likely class(es) the image belongs to. Something that looks like this:\n",
    "<img src='assets/image_distribution.png' width=500px>\n",
    "\n",
    "Here we see that the probability for each class is roughly the same. This is representing an untrained network, it hasn't seen any data yet so it just returns a uniform distribution with equal probabilities for each class.\n",
    "\n",
    "To calculate this probability distribution, we often use the [**softmax** function](https://en.wikipedia.org/wiki/Softmax_function). Mathematically this looks like\n",
    "\n",
    "$$\n",
    "\\Large \\sigma(x_i) = \\cfrac{e^{x_i}}{\\sum_k^K{e^{x_k}}}\n",
    "$$\n",
    "\n",
    "What this does is squish each input $x_i$ between 0 and 1 and normalizes the values to give you a proper probability distribution where the probabilites sum up to one.\n",
    "\n",
    "> **Exercise:** Implement a function `softmax` that performs the softmax calculation and returns probability distributions for each example in the batch. Note that you'll need to pay attention to the shapes when doing this. If you have a tensor `a` with shape `(64, 10)` and a tensor `b` with shape `(64,)`, doing `a/b` will give you an error because PyTorch will try to do the division across the columns (called broadcasting) but you'll get a size mismatch. The way to think about this is for each of the 64 examples, you only want to divide by one value, the sum in the denominator. So you need `b` to have a shape of `(64, 1)`. This way PyTorch will divide the 10 values in each row of `a` by the one value in each row of `b`. Pay attention to how you take the sum as well. You'll need to define the `dim` keyword in `torch.sum`. Setting `dim=0` takes the sum across the rows while `dim=1` takes the sum across the columns."
   ]
  },
  {
   "cell_type": "code",
   "execution_count": 15,
   "metadata": {},
   "outputs": [
    {
     "name": "stdout",
     "output_type": "stream",
     "text": [
      "torch.Size([64, 10])\n",
      "tensor([ 1.0000,  1.0000,  1.0000,  1.0000,  1.0000,  1.0000,  1.0000,\n",
      "         1.0000,  1.0000,  1.0000,  1.0000,  1.0000,  1.0000,  1.0000,\n",
      "         1.0000,  1.0000,  1.0000,  1.0000,  1.0000,  1.0000,  1.0000,\n",
      "         1.0000,  1.0000,  1.0000,  1.0000,  1.0000,  1.0000,  1.0000,\n",
      "         1.0000,  1.0000,  1.0000,  1.0000,  1.0000,  1.0000,  1.0000,\n",
      "         1.0000,  1.0000,  1.0000,  1.0000,  1.0000,  1.0000,  1.0000,\n",
      "         1.0000,  1.0000,  1.0000,  1.0000,  1.0000,  1.0000,  1.0000,\n",
      "         1.0000,  1.0000,  1.0000,  1.0000,  1.0000,  1.0000,  1.0000,\n",
      "         1.0000,  1.0000,  1.0000,  1.0000,  1.0000,  1.0000,  1.0000,\n",
      "         1.0000])\n"
     ]
    }
   ],
   "source": [
    "def softmax(x):\n",
    "    ## TODO: Implement the softmax function here\n",
    "    exp_x = torch.exp(x)\n",
    "    return exp_x/torch.sum(exp_x, dim = 1).view(64, 1)\n",
    "\n",
    "# Here, out should be the output of the network in the previous excercise with shape (64,10)\n",
    "probabilities = softmax(out)\n",
    "\n",
    "# Does it have the right shape? Should be (64, 10)\n",
    "print(probabilities.shape)\n",
    "# Does it sum to 1?\n",
    "print(probabilities.sum(dim=1))"
   ]
  },
  {
   "cell_type": "markdown",
   "metadata": {},
   "source": [
    "## Building networks with PyTorch\n",
    "\n",
    "PyTorch provides a module `nn` that makes building networks much simpler. Here I'll show you how to build the same one as above with 784 inputs, 256 hidden units, 10 output units and a softmax output."
   ]
  },
  {
   "cell_type": "code",
   "execution_count": 16,
   "metadata": {},
   "outputs": [],
   "source": [
    "from torch import nn"
   ]
  },
  {
   "cell_type": "code",
   "execution_count": 17,
   "metadata": {},
   "outputs": [],
   "source": [
    "class Network(nn.Module):\n",
    "    def __init__(self):\n",
    "        super().__init__()\n",
    "        \n",
    "        # Inputs to hidden layer linear transformation\n",
    "        self.hidden = nn.Linear(784, 256)\n",
    "        # Output layer, 10 units - one for each digit\n",
    "        self.output = nn.Linear(256, 10)\n",
    "        \n",
    "        # Define sigmoid activation and softmax output \n",
    "        self.sigmoid = nn.Sigmoid()\n",
    "        self.softmax = nn.Softmax(dim=1)\n",
    "        \n",
    "    def forward(self, x):\n",
    "        # Pass the input tensor through each of our operations\n",
    "        x = self.hidden(x)\n",
    "        x = self.sigmoid(x)\n",
    "        x = self.output(x)\n",
    "        x = self.softmax(x)\n",
    "        \n",
    "        return x"
   ]
  },
  {
   "cell_type": "markdown",
   "metadata": {},
   "source": [
    "Let's go through this bit by bit.\n",
    "\n",
    "```python\n",
    "class Network(nn.Module):\n",
    "```\n",
    "\n",
    "Here we're inheriting from `nn.Module`. Combined with `super().__init__()` this creates a class that tracks the architecture and provides a lot of useful methods and attributes. It is mandatory to inherit from `nn.Module` when you're creating a class for your network. The name of the class itself can be anything.\n",
    "\n",
    "```python\n",
    "self.hidden = nn.Linear(784, 256)\n",
    "```\n",
    "\n",
    "This line creates a module for a linear transformation, $x\\mathbf{W} + b$, with 784 inputs and 256 outputs and assigns it to `self.hidden`. The module automatically creates the weight and bias tensors which we'll use in the `forward` method. You can access the weight and bias tensors once the network (`net`) is created with `net.hidden.weight` and `net.hidden.bias`.\n",
    "\n",
    "```python\n",
    "self.output = nn.Linear(256, 10)\n",
    "```\n",
    "\n",
    "Similarly, this creates another linear transformation with 256 inputs and 10 outputs.\n",
    "\n",
    "```python\n",
    "self.sigmoid = nn.Sigmoid()\n",
    "self.softmax = nn.Softmax(dim=1)\n",
    "```\n",
    "\n",
    "Here I defined operations for the sigmoid activation and softmax output. Setting `dim=1` in `nn.Softmax(dim=1)` calculates softmax across the columns.\n",
    "\n",
    "```python\n",
    "def forward(self, x):\n",
    "```\n",
    "\n",
    "PyTorch networks created with `nn.Module` must have a `forward` method defined. It takes in a tensor `x` and passes it through the operations you defined in the `__init__` method.\n",
    "\n",
    "```python\n",
    "x = self.hidden(x)\n",
    "x = self.sigmoid(x)\n",
    "x = self.output(x)\n",
    "x = self.softmax(x)\n",
    "```\n",
    "\n",
    "Here the input tensor `x` is passed through each operation a reassigned to `x`. We can see that the input tensor goes through the hidden layer, then a sigmoid function, then the output layer, and finally the softmax function. It doesn't matter what you name the variables here, as long as the inputs and outputs of the operations match the network architecture you want to build. The order in which you define things in the `__init__` method doesn't matter, but you'll need to sequence the operations correctly in the `forward` method.\n",
    "\n",
    "Now we can create a `Network` object."
   ]
  },
  {
   "cell_type": "code",
   "execution_count": 18,
   "metadata": {},
   "outputs": [
    {
     "data": {
      "text/plain": [
       "Network(\n",
       "  (hidden): Linear(in_features=784, out_features=256, bias=True)\n",
       "  (output): Linear(in_features=256, out_features=10, bias=True)\n",
       "  (sigmoid): Sigmoid()\n",
       "  (softmax): Softmax()\n",
       ")"
      ]
     },
     "execution_count": 18,
     "metadata": {},
     "output_type": "execute_result"
    }
   ],
   "source": [
    "# Create the network and look at it's text representation\n",
    "model = Network()\n",
    "model"
   ]
  },
  {
   "cell_type": "markdown",
   "metadata": {},
   "source": [
    "You can define the network somewhat more concisely and clearly using the `torch.nn.functional` module. This is the most common way you'll see networks defined as many operations are simple element-wise functions. We normally import this module as `F`, `import torch.nn.functional as F`."
   ]
  },
  {
   "cell_type": "code",
   "execution_count": 19,
   "metadata": {},
   "outputs": [],
   "source": [
    "import torch.nn.functional as F\n",
    "\n",
    "class Network(nn.Module):\n",
    "    def __init__(self):\n",
    "        super().__init__()\n",
    "        # Inputs to hidden layer linear transformation\n",
    "        self.hidden = nn.Linear(784, 256)\n",
    "        # Output layer, 10 units - one for each digit\n",
    "        self.output = nn.Linear(256, 10)\n",
    "        \n",
    "    def forward(self, x):\n",
    "        # Hidden layer with sigmoid activation\n",
    "        x = F.sigmoid(self.hidden(x))\n",
    "        # Output layer with softmax activation\n",
    "        x = F.softmax(self.output(x), dim=1)\n",
    "        \n",
    "        return x"
   ]
  },
  {
   "cell_type": "markdown",
   "metadata": {},
   "source": [
    "### Activation functions\n",
    "\n",
    "So far we've only been looking at the softmax activation, but in general any function can be used as an activation function. The only requirement is that for a network to approximate a non-linear function, the activation functions must be non-linear. Here are a few more examples of common activation functions: Tanh (hyperbolic tangent), and ReLU (rectified linear unit).\n",
    "\n",
    "<img src=\"assets/activation.png\" width=700px>\n",
    "\n",
    "In practice, the ReLU function is used almost exclusively as the activation function for hidden layers."
   ]
  },
  {
   "cell_type": "markdown",
   "metadata": {},
   "source": [
    "### Your Turn to Build a Network\n",
    "\n",
    "<img src=\"assets/mlp_mnist.png\" width=600px>\n",
    "\n",
    "> **Exercise:** Create a network with 784 input units, a hidden layer with 128 units and a ReLU activation, then a hidden layer with 64 units and a ReLU activation, and finally an output layer with a softmax activation as shown above. You can use a ReLU activation with the `nn.ReLU` module or `F.relu` function."
   ]
  },
  {
   "cell_type": "code",
   "execution_count": 24,
   "metadata": {
    "scrolled": true
   },
   "outputs": [],
   "source": [
    "## Your solution here\n",
    "\n",
    "import torch.nn.functional as F\n",
    "\n",
    "class Network(nn.Module):\n",
    "    def __init__(self):\n",
    "        super().__init__()\n",
    "        # Inputs to hidden layer linear transformation\n",
    "        self.fc1 = nn.Linear(784, 128)\n",
    "        self.fc2 = nn.Linear(128, 64)\n",
    "        # Output layer, 10 units - one for each digit\n",
    "        self.output = nn.Linear(64, 10)\n",
    "        \n",
    "    def forward(self, x):\n",
    "        # Hidden layer with sigmoid activation\n",
    "        x = F.relu(self.fc1(x))\n",
    "        x = F.relu(self.fc2(x))\n",
    "        # Output layer with softmax activation\n",
    "        x = F.softmax(self.output(x), dim=1)\n",
    "        \n",
    "        return x\n"
   ]
  },
  {
   "cell_type": "code",
   "execution_count": 25,
   "metadata": {},
   "outputs": [
    {
     "data": {
      "text/plain": [
       "Network(\n",
       "  (fc1): Linear(in_features=784, out_features=128, bias=True)\n",
       "  (fc2): Linear(in_features=128, out_features=64, bias=True)\n",
       "  (output): Linear(in_features=64, out_features=10, bias=True)\n",
       ")"
      ]
     },
     "execution_count": 25,
     "metadata": {},
     "output_type": "execute_result"
    }
   ],
   "source": [
    "model = Network()\n",
    "model"
   ]
  },
  {
   "cell_type": "markdown",
   "metadata": {},
   "source": [
    "### Initializing weights and biases\n",
    "\n",
    "The weights and such are automatically initialized for you, but it's possible to customize how they are initialized. The weights and biases are tensors attached to the layer you defined, you can get them with `model.fc1.weight` for instance."
   ]
  },
  {
   "cell_type": "code",
   "execution_count": 26,
   "metadata": {},
   "outputs": [
    {
     "name": "stdout",
     "output_type": "stream",
     "text": [
      "Parameter containing:\n",
      "tensor(1.00000e-02 *\n",
      "       [[ 2.5682, -3.4333, -1.8059,  ..., -1.6574,  3.0807, -2.3610],\n",
      "        [-0.0311, -0.0210, -3.0003,  ..., -0.3563, -0.9889, -0.6677],\n",
      "        [-1.8472, -3.0229,  2.3701,  ..., -0.5242,  2.6730, -3.2273],\n",
      "        ...,\n",
      "        [-3.0194,  1.2664, -1.5464,  ...,  0.6098,  2.7555, -2.1646],\n",
      "        [-1.4639, -1.8681, -1.1422,  ...,  2.1184,  0.5894,  1.1606],\n",
      "        [-2.2097, -0.8624, -0.6912,  ...,  1.3009,  0.1566, -0.7136]])\n",
      "Parameter containing:\n",
      "tensor(1.00000e-02 *\n",
      "       [-0.5756, -2.2238,  2.8262, -3.1010, -2.6382, -0.5943, -1.9193,\n",
      "        -2.8594,  2.9054, -1.9972, -0.2511, -2.6561,  0.8206,  0.0400,\n",
      "        -0.4100, -2.2097, -2.0364,  0.2617, -2.9733,  2.8680,  1.6118,\n",
      "         0.7454,  1.6807,  1.6924,  1.3295,  1.7073,  0.7484, -3.2667,\n",
      "         1.6012,  0.7922,  0.2670,  0.7640,  2.0345,  0.0337,  2.5820,\n",
      "         1.6689,  1.4697,  3.1527,  3.5688, -0.8285,  1.1903, -0.0908,\n",
      "         2.4285, -2.1489,  2.7992, -2.0260, -2.9096, -2.4449,  2.0657,\n",
      "        -1.1559, -0.2290, -0.3686,  1.6886, -1.7825, -1.4219,  3.3274,\n",
      "        -0.4979,  0.2462, -0.5150, -1.7715, -3.3743,  1.0377, -1.0001,\n",
      "        -2.4296, -3.5611,  0.0633,  2.8472,  1.9561, -1.6966,  0.9233,\n",
      "        -0.7715,  1.0550,  2.0951,  0.2729,  3.1994,  3.4101,  0.7874,\n",
      "         0.9078, -1.0694, -3.0904,  2.8113, -1.3648,  2.2295, -2.2134,\n",
      "         1.8800,  0.2416,  2.7373, -1.3419, -3.3632,  0.6864,  0.0530,\n",
      "         0.7041,  2.2621,  0.0292,  3.2033, -0.0285, -2.1667,  2.2605,\n",
      "         3.3493,  0.3849,  2.2703,  2.4349, -0.5689, -0.9280,  3.1741,\n",
      "         1.5506,  0.6087,  0.8200, -3.3345,  1.0114,  2.8865,  0.8117,\n",
      "         3.3014,  0.5694, -2.1559, -2.0027,  1.1097, -1.9646, -1.0824,\n",
      "        -0.5094, -1.8761,  1.4965,  2.1639,  2.7928,  2.6633,  2.3542,\n",
      "        -2.9581, -1.5590])\n"
     ]
    }
   ],
   "source": [
    "print(model.fc1.weight)\n",
    "print(model.fc1.bias)"
   ]
  },
  {
   "cell_type": "markdown",
   "metadata": {},
   "source": [
    "For custom initialization, we want to modify these tensors in place. These are actually autograd *Variables*, so we need to get back the actual tensors with `model.fc1.weight.data`. Once we have the tensors, we can fill them with zeros (for biases) or random normal values."
   ]
  },
  {
   "cell_type": "code",
   "execution_count": 27,
   "metadata": {},
   "outputs": [
    {
     "data": {
      "text/plain": [
       "tensor([ 0.,  0.,  0.,  0.,  0.,  0.,  0.,  0.,  0.,  0.,  0.,  0.,\n",
       "         0.,  0.,  0.,  0.,  0.,  0.,  0.,  0.,  0.,  0.,  0.,  0.,\n",
       "         0.,  0.,  0.,  0.,  0.,  0.,  0.,  0.,  0.,  0.,  0.,  0.,\n",
       "         0.,  0.,  0.,  0.,  0.,  0.,  0.,  0.,  0.,  0.,  0.,  0.,\n",
       "         0.,  0.,  0.,  0.,  0.,  0.,  0.,  0.,  0.,  0.,  0.,  0.,\n",
       "         0.,  0.,  0.,  0.,  0.,  0.,  0.,  0.,  0.,  0.,  0.,  0.,\n",
       "         0.,  0.,  0.,  0.,  0.,  0.,  0.,  0.,  0.,  0.,  0.,  0.,\n",
       "         0.,  0.,  0.,  0.,  0.,  0.,  0.,  0.,  0.,  0.,  0.,  0.,\n",
       "         0.,  0.,  0.,  0.,  0.,  0.,  0.,  0.,  0.,  0.,  0.,  0.,\n",
       "         0.,  0.,  0.,  0.,  0.,  0.,  0.,  0.,  0.,  0.,  0.,  0.,\n",
       "         0.,  0.,  0.,  0.,  0.,  0.,  0.,  0.])"
      ]
     },
     "execution_count": 27,
     "metadata": {},
     "output_type": "execute_result"
    }
   ],
   "source": [
    "# Set biases to all zeros\n",
    "model.fc1.bias.data.fill_(0)"
   ]
  },
  {
   "cell_type": "code",
   "execution_count": 28,
   "metadata": {},
   "outputs": [
    {
     "data": {
      "text/plain": [
       "tensor([[-1.2221e-03,  4.0304e-03,  1.1731e-02,  ...,  6.7005e-03,\n",
       "          1.7207e-02, -7.5253e-04],\n",
       "        [-1.7958e-03,  9.8833e-03, -1.3019e-02,  ...,  1.1718e-02,\n",
       "          9.7920e-03,  2.4290e-03],\n",
       "        [ 3.7854e-03, -2.0315e-02, -8.7495e-03,  ...,  5.2850e-03,\n",
       "         -4.8104e-03,  4.3190e-03],\n",
       "        ...,\n",
       "        [ 1.6113e-02,  1.0518e-03,  2.7995e-03,  ..., -9.9873e-03,\n",
       "         -4.0280e-03, -8.8152e-03],\n",
       "        [-1.7695e-03,  1.5463e-02,  2.3310e-03,  ..., -3.0242e-03,\n",
       "         -1.9996e-02, -3.4451e-03],\n",
       "        [ 7.3916e-04, -1.0046e-03, -5.5370e-04,  ...,  5.5747e-03,\n",
       "         -8.8855e-03, -1.8652e-02]])"
      ]
     },
     "execution_count": 28,
     "metadata": {},
     "output_type": "execute_result"
    }
   ],
   "source": [
    "# sample from random normal with standard dev = 0.01\n",
    "model.fc1.weight.data.normal_(std=0.01)"
   ]
  },
  {
   "cell_type": "markdown",
   "metadata": {},
   "source": [
    "### Forward pass\n",
    "\n",
    "Now that we have a network, let's see what happens when we pass in an image."
   ]
  },
  {
   "cell_type": "code",
   "execution_count": 29,
   "metadata": {},
   "outputs": [
    {
     "data": {
      "image/png": "[encoded data removed]",
      "text/plain": [
       "<matplotlib.figure.Figure at 0x7f17d835b400>"
      ]
     },
     "metadata": {
      "image/png": {
       "height": 224,
       "width": 423
      },
      "needs_background": "light"
     },
     "output_type": "display_data"
    }
   ],
   "source": [
    "# Grab some data \n",
    "dataiter = iter(trainloader)\n",
    "images, labels = dataiter.next()\n",
    "\n",
    "# Resize images into a 1D vector, new shape is (batch size, color channels, image pixels) \n",
    "images.resize_(64, 1, 784)\n",
    "# or images.resize_(images.shape[0], 1, 784) to automatically get batch size\n",
    "\n",
    "# Forward pass through the network\n",
    "img_idx = 0\n",
    "ps = model.forward(images[img_idx,:])\n",
    "\n",
    "img = images[img_idx]\n",
    "helper.view_classify(img.view(1, 28, 28), ps)"
   ]
  },
  {
   "cell_type": "markdown",
   "metadata": {},
   "source": [
    "As you can see above, our network has basically no idea what this digit is. It's because we haven't trained it yet, all the weights are random!\n",
    "\n",
    "### Using `nn.Sequential`\n",
    "\n",
    "PyTorch provides a convenient way to build networks like this where a tensor is passed sequentially through operations, `nn.Sequential` ([documentation](https://pytorch.org/docs/master/nn.html#torch.nn.Sequential)). Using this to build the equivalent network:"
   ]
  },
  {
   "cell_type": "code",
   "execution_count": 30,
   "metadata": {},
   "outputs": [
    {
     "name": "stdout",
     "output_type": "stream",
     "text": [
      "Sequential(\n",
      "  (0): Linear(in_features=784, out_features=128, bias=True)\n",
      "  (1): ReLU()\n",
      "  (2): Linear(in_features=128, out_features=64, bias=True)\n",
      "  (3): ReLU()\n",
      "  (4): Linear(in_features=64, out_features=10, bias=True)\n",
      "  (5): Softmax()\n",
      ")\n"
     ]
    },
    {
     "data": {
      "image/png": "[encoded data removed]",
      "text/plain": [
       "<matplotlib.figure.Figure at 0x7f177b216710>"
      ]
     },
     "metadata": {
      "image/png": {
       "height": 224,
       "width": 423
      },
      "needs_background": "light"
     },
     "output_type": "display_data"
    }
   ],
   "source": [
    "# Hyperparameters for our network\n",
    "input_size = 784\n",
    "hidden_sizes = [128, 64]\n",
    "output_size = 10\n",
    "\n",
    "# Build a feed-forward network\n",
    "model = nn.Sequential(nn.Linear(input_size, hidden_sizes[0]),\n",
    "                      nn.ReLU(),\n",
    "                      nn.Linear(hidden_sizes[0], hidden_sizes[1]),\n",
    "                      nn.ReLU(),\n",
    "                      nn.Linear(hidden_sizes[1], output_size),\n",
    "                      nn.Softmax(dim=1))\n",
    "print(model)\n",
    "\n",
    "# Forward pass through the network and display output\n",
    "images, labels = next(iter(trainloader))\n",
    "images.resize_(images.shape[0], 1, 784)\n",
    "ps = model.forward(images[0,:])\n",
    "helper.view_classify(images[0].view(1, 28, 28), ps)"
   ]
  },
  {
   "cell_type": "markdown",
   "metadata": {},
   "source": [
    "Here our model is the same as before: 784 input units, a hidden layer with 128 units, ReLU activation, 64 unit hidden layer, another ReLU, then the output layer with 10 units, and the softmax output.\n",
    "\n",
    "The operations are availble by passing in the appropriate index. For example, if you want to get first Linear operation and look at the weights, you'd use `model[0]`."
   ]
  },
  {
   "cell_type": "code",
   "execution_count": 31,
   "metadata": {},
   "outputs": [
    {
     "name": "stdout",
     "output_type": "stream",
     "text": [
      "Linear(in_features=784, out_features=128, bias=True)\n"
     ]
    },
    {
     "data": {
      "text/plain": [
       "Parameter containing:\n",
       "tensor([[-7.0424e-03,  3.4342e-02,  1.6048e-02,  ...,  6.8805e-03,\n",
       "          8.3743e-03, -1.1439e-02],\n",
       "        [ 1.0439e-02,  3.4683e-02,  2.2284e-02,  ..., -7.6070e-03,\n",
       "         -7.6061e-03,  3.3749e-02],\n",
       "        [-1.0895e-02, -2.5295e-02,  3.2772e-02,  ..., -3.3485e-02,\n",
       "         -1.5132e-03,  2.5790e-03],\n",
       "        ...,\n",
       "        [-2.7043e-02, -2.1341e-02, -9.5544e-03,  ...,  9.4059e-03,\n",
       "         -1.5880e-02,  1.3833e-02],\n",
       "        [ 2.2169e-02,  3.8339e-03, -1.5007e-02,  ..., -7.5831e-03,\n",
       "          1.0300e-02, -3.1140e-02],\n",
       "        [-2.3511e-02,  3.0529e-02, -1.2945e-02,  ...,  1.3750e-03,\n",
       "         -3.4799e-02, -1.6677e-02]])"
      ]
     },
     "execution_count": 31,
     "metadata": {},
     "output_type": "execute_result"
    }
   ],
   "source": [
    "print(model[0])\n",
    "model[0].weight"
   ]
  },
  {
   "cell_type": "markdown",
   "metadata": {},
   "source": [
    "You can also pass in an `OrderedDict` to name the individual layers and operations, instead of using incremental integers. Note that dictionary keys must be unique, so _each operation must have a different name_."
   ]
  },
  {
   "cell_type": "code",
   "execution_count": 32,
   "metadata": {},
   "outputs": [
    {
     "data": {
      "text/plain": [
       "Sequential(\n",
       "  (fc1): Linear(in_features=784, out_features=128, bias=True)\n",
       "  (relu1): ReLU()\n",
       "  (fc2): Linear(in_features=128, out_features=64, bias=True)\n",
       "  (relu2): ReLU()\n",
       "  (output): Linear(in_features=64, out_features=10, bias=True)\n",
       "  (softmax): Softmax()\n",
       ")"
      ]
     },
     "execution_count": 32,
     "metadata": {},
     "output_type": "execute_result"
    }
   ],
   "source": [
    "from collections import OrderedDict\n",
    "model = nn.Sequential(OrderedDict([\n",
    "                      ('fc1', nn.Linear(input_size, hidden_sizes[0])),\n",
    "                      ('relu1', nn.ReLU()),\n",
    "                      ('fc2', nn.Linear(hidden_sizes[0], hidden_sizes[1])),\n",
    "                      ('relu2', nn.ReLU()),\n",
    "                      ('output', nn.Linear(hidden_sizes[1], output_size)),\n",
    "                      ('softmax', nn.Softmax(dim=1))]))\n",
    "model"
   ]
  },
  {
   "cell_type": "markdown",
   "metadata": {},
   "source": [
    "Now you can access layers either by integer or the name"
   ]
  },
  {
   "cell_type": "code",
   "execution_count": 33,
   "metadata": {},
   "outputs": [
    {
     "name": "stdout",
     "output_type": "stream",
     "text": [
      "Linear(in_features=784, out_features=128, bias=True)\n",
      "Linear(in_features=784, out_features=128, bias=True)\n"
     ]
    }
   ],
   "source": [
    "print(model[0])\n",
    "print(model.fc1)"
   ]
  },
  {
   "cell_type": "markdown",
   "metadata": {},
   "source": [
    "In the next notebook, we'll see how we can train a neural network to accuractly predict the numbers appearing in the MNIST images."
   ]
  }
 ],
 "metadata": {
  "kernelspec": {
   "display_name": "Python 3",
   "language": "python",
   "name": "python3"
  },
  "language_info": {
   "codemirror_mode": {
    "name": "ipython",
    "version": 3
   },
   "file_extension": ".py",
   "mimetype": "text/x-python",
   "name": "python",
   "nbconvert_exporter": "python",
   "pygments_lexer": "ipython3",
   "version": "3.6.3"
  }
 },
 "nbformat": 4,
 "nbformat_minor": 2
}
